{
 "cells": [
  {
   "cell_type": "markdown",
   "metadata": {},
   "source": [
    "# **04 ML model comparison and tuning**"
   ]
  },
  {
   "cell_type": "markdown",
   "metadata": {},
   "source": [
    "## Objectives\n",
    "\n",
    "* Hyperparameter Optimisation using multiple algorithms. \n",
    "\n",
    "## Inputs\n",
    "\n",
    "* `data/processed/cybersecurity_intrusion_data_eda.csv`\n",
    "\n",
    "## Outputs\n",
    "\n",
    "* Best model found and analyzed for performance\n",
    "* Prediction probabilities \n",
    "* `data/processed/cybersecurity_intrusion_data_pred.csv`\n",
    "\n",
    "## Additional Comments\n",
    "\n",
    "* The notebook adopts the shared template structure to stay consistent with the rest of the project.\n",
    "\n",
    "---\n"
   ]
  },
  {
   "cell_type": "markdown",
   "id": "639b4328",
   "metadata": {},
   "source": [
    "\n",
    "## <img width=\"3%\" height=\"3%\" align=\"top\"  src=\"https://codeinstitute.s3.amazonaws.com/predictive_analytics/jupyter_notebook_icons/Icon%204%20-%20Import%20Package%20for%20Learning.png\"> Import Packages for Learning\n"
   ]
  },
  {
   "cell_type": "code",
   "execution_count": null,
   "id": "72572a2e",
   "metadata": {},
   "outputs": [],
   "source": [
    "import numpy as np\n",
    "import pandas as pd\n",
    "import matplotlib.pyplot as plt\n",
    "import seaborn as sns\n",
    "sns.set_style(\"whitegrid\")\n",
    "\n",
    "from sklearn.pipeline import Pipeline\n",
    "\n",
    "### Data Cleaning and Feature Engineering\n",
    "from feature_engine.imputation import MeanMedianImputer\n",
    "from feature_engine.imputation import CategoricalImputer\n",
    "from feature_engine.encoding import OrdinalEncoder\n",
    "from feature_engine.encoding import OneHotEncoder\n",
    "\n",
    "### Feat Scaling\n",
    "from sklearn.preprocessing import StandardScaler\n",
    "\n",
    "### Feat Selection\n",
    "from sklearn.feature_selection import SelectFromModel\n",
    "\n",
    "### ML algorithms \n",
    "from sklearn.tree import DecisionTreeClassifier\n",
    "from sklearn.ensemble import RandomForestClassifier\n",
    "from sklearn.ensemble import GradientBoostingClassifier \n",
    "from sklearn.ensemble import ExtraTreesClassifier\n",
    "from sklearn.ensemble import AdaBoostClassifier\n",
    "\n",
    "### CV algorithms \n",
    "from sklearn.model_selection import GridSearchCV"
   ]
  },
  {
   "cell_type": "markdown",
   "id": "324c5ab5",
   "metadata": {},
   "source": [
    "We need to change the working directory from its current folder to its parent folder\n",
    "* We access the current directory with os.getcwd()"
   ]
  },
  {
   "cell_type": "code",
   "execution_count": null,
   "id": "189a9095",
   "metadata": {},
   "outputs": [
    {
     "name": "stdout",
     "output_type": "stream",
     "text": [
      "You set a new current directory\n"
     ]
    }
   ],
   "source": [
    "import os\n",
    "current_dir = os.getcwd()\n",
    "current_dir\n",
    "\n",
    "os.chdir(os.path.dirname(current_dir))\n",
    "print(\"You set a new current directory\")\n",
    "\n"
   ]
  },
  {
   "cell_type": "code",
   "execution_count": null,
   "id": "6ad960c7",
   "metadata": {},
   "outputs": [
    {
     "data": {
      "text/plain": [
       "'c:\\\\Users\\\\marka\\\\OneDrive\\\\Desktop\\\\Cyber'"
      ]
     },
     "execution_count": 5,
     "metadata": {},
     "output_type": "execute_result"
    }
   ],
   "source": [
    "current_dir"
   ]
  },
  {
   "cell_type": "markdown",
   "id": "93a30712",
   "metadata": {},
   "source": [
    "---\n"
   ]
  },
  {
   "cell_type": "markdown",
   "id": "3bb7c659",
   "metadata": {},
   "source": [
    "We fitted multiple pipelines using a single algorithm while looking for the best hyperparameter combination for regression and classification tasks. However, how do you know which was better for a given ML task? \n",
    "* Let's learn how to use GridSearchCV and do Hyperparameter Optimisation using **multiple algorithms**\n",
    "  \n",
    "We will cover in this notebook:\n",
    "* A technique to do a hyperparameter optimisation with multiple algorithms.\n",
    "* A strategy for using this technique that typically reduces the time needed to train all algorithms.\n",
    "* A strategy to refit the pipeline with only the most relevant features so you can deploy a pipeline that contains only the best features.\n",
    "* **BONUS**: Here, we list the values of the most common hyperparameters for the algorithms we have covered in the course. You can use them as a starting point and as a reference for your personal projects or in your future workplace.\n",
    "---\n"
   ]
  },
  {
   "cell_type": "markdown",
   "id": "36a23e0e",
   "metadata": {},
   "source": [
    "### <img width=\"3%\" height=\"3%\" align=\"top\"  src=\"https://codeinstitute.s3.amazonaws.com/predictive_analytics/jupyter_notebook_icons/Icon%2010-%20Lesson%20Content.png\">  Hyperparameter Optimisation with multiple algorithms\n"
   ]
  },
  {
   "cell_type": "markdown",
   "id": "57919a71",
   "metadata": {},
   "source": [
    "The workflow:\n",
    "\n",
    "* Split the data.\n",
    "* Define the pipeline and hyperparameter.\n",
    "* Fit the pipeline (using a strategy that typically trains all the algorithms faster).\n",
    "* Evaluate the pipeline."
   ]
  },
  {
   "cell_type": "code",
   "execution_count": null,
   "id": "1308c83d",
   "metadata": {},
   "outputs": [
    {
     "ename": "NameError",
     "evalue": "name 'pd' is not defined",
     "output_type": "error",
     "traceback": [
      "\u001b[31m---------------------------------------------------------------------------\u001b[39m",
      "\u001b[31mNameError\u001b[39m                                 Traceback (most recent call last)",
      "\u001b[36mCell\u001b[39m\u001b[36m \u001b[39m\u001b[32mIn[6]\u001b[39m\u001b[32m, line 2\u001b[39m\n\u001b[32m      1\u001b[39m \u001b[38;5;66;03m# Feature engineered cybersecurity dataset\u001b[39;00m\n\u001b[32m----> \u001b[39m\u001b[32m2\u001b[39m df_clf = \u001b[43mpd\u001b[49m.read_csv(\u001b[33m'\u001b[39m\u001b[33mdata/processed/cybersecurity_intrusion_data_eda.csv\u001b[39m\u001b[33m'\u001b[39m)\n\u001b[32m      3\u001b[39m \u001b[38;5;28mprint\u001b[39m(df_clf.shape)\n\u001b[32m      4\u001b[39m df_clf.head()\n",
      "\u001b[31mNameError\u001b[39m: name 'pd' is not defined"
     ]
    }
   ],
   "source": [
    "# Feature engineered cybersecurity dataset\n",
    "df_clf = pd.read_csv('data/processed/cybersecurity_intrusion_data_eda.csv')\n",
    "print(df_clf.shape)\n",
    "df_clf.head()\n",
    "\n"
   ]
  },
  {
   "cell_type": "code",
   "execution_count": null,
   "id": "e46225f0",
   "metadata": {},
   "outputs": [
    {
     "name": "stdout",
     "output_type": "stream",
     "text": [
      "<class 'pandas.core.frame.DataFrame'>\n",
      "RangeIndex: 8807 entries, 0 to 8806\n",
      "Data columns (total 15 columns):\n",
      " #   Column                    Non-Null Count  Dtype  \n",
      "---  ------                    --------------  -----  \n",
      " 0   session_id                8807 non-null   object \n",
      " 1   network_packet_size       8807 non-null   int64  \n",
      " 2   protocol_type             8807 non-null   object \n",
      " 3   login_attempts            8807 non-null   int64  \n",
      " 4   session_duration          8807 non-null   float64\n",
      " 5   encryption_used           8807 non-null   object \n",
      " 6   ip_reputation_score       8807 non-null   float64\n",
      " 7   failed_logins             8807 non-null   int64  \n",
      " 8   browser_type              8807 non-null   object \n",
      " 9   unusual_time_access       8807 non-null   int64  \n",
      " 10  attack_detected           8807 non-null   int64  \n",
      " 11  session_duration_log      8807 non-null   float64\n",
      " 12  ip_reputation_score_log   8807 non-null   float64\n",
      " 13  network_packet_size_is64  8807 non-null   bool   \n",
      " 14  fail_ratio                8807 non-null   float64\n",
      "dtypes: bool(1), float64(5), int64(5), object(4)\n",
      "memory usage: 972.0+ KB\n"
     ]
    }
   ],
   "source": [
    "df_clf.info()"
   ]
  },
  {
   "cell_type": "markdown",
   "id": "ee95c0ee",
   "metadata": {},
   "source": [
    "## Statistical Process Control (SPC) on `attack_detected`\n",
    "We treat the ordered session records as a manufacturing-like process and scan for any Western Electric style run rule violation: five or more consecutive intrusions (`attack_detected == 1`). These extended streaks flag potential process drift or an active attack campaign that requires immediate escalation."
   ]
  },
  {
   "cell_type": "code",
   "execution_count": null,
   "id": "4ec1ae8d",
   "metadata": {},
   "outputs": [
    {
     "data": {
      "application/vnd.microsoft.datawrangler.viewer.v0+json": {
       "columns": [
        {
         "name": "index",
         "rawType": "int64",
         "type": "integer"
        },
        {
         "name": "run_start_idx",
         "rawType": "int64",
         "type": "integer"
        },
        {
         "name": "run_end_idx",
         "rawType": "int64",
         "type": "integer"
        },
        {
         "name": "run_length",
         "rawType": "int64",
         "type": "integer"
        }
       ],
       "ref": "b3cdad05-8752-4047-bb1e-1d9b8d8f84bd",
       "rows": [
        [
         "0",
         "125",
         "131",
         "7"
        ],
        [
         "1",
         "190",
         "195",
         "6"
        ],
        [
         "2",
         "320",
         "327",
         "8"
        ],
        [
         "3",
         "484",
         "491",
         "8"
        ],
        [
         "4",
         "977",
         "983",
         "7"
        ],
        [
         "5",
         "2452",
         "2457",
         "6"
        ],
        [
         "6",
         "2705",
         "2711",
         "7"
        ],
        [
         "7",
         "2779",
         "2784",
         "6"
        ],
        [
         "8",
         "2857",
         "2862",
         "6"
        ],
        [
         "9",
         "3052",
         "3058",
         "7"
        ],
        [
         "10",
         "3394",
         "3401",
         "8"
        ],
        [
         "11",
         "3437",
         "3442",
         "6"
        ],
        [
         "12",
         "3762",
         "3767",
         "6"
        ],
        [
         "13",
         "3852",
         "3859",
         "8"
        ],
        [
         "14",
         "4059",
         "4064",
         "6"
        ],
        [
         "15",
         "5158",
         "5163",
         "6"
        ],
        [
         "16",
         "5351",
         "5360",
         "10"
        ],
        [
         "17",
         "5453",
         "5458",
         "6"
        ],
        [
         "18",
         "5861",
         "5867",
         "7"
        ],
        [
         "19",
         "6221",
         "6226",
         "6"
        ],
        [
         "20",
         "6572",
         "6579",
         "8"
        ],
        [
         "21",
         "6993",
         "6999",
         "7"
        ],
        [
         "22",
         "7090",
         "7097",
         "8"
        ],
        [
         "23",
         "7525",
         "7532",
         "8"
        ],
        [
         "24",
         "8342",
         "8347",
         "6"
        ],
        [
         "25",
         "8628",
         "8633",
         "6"
        ],
        [
         "26",
         "8773",
         "8779",
         "7"
        ]
       ],
       "shape": {
        "columns": 3,
        "rows": 27
       }
      },
      "text/html": [
       "<div>\n",
       "<style scoped>\n",
       "    .dataframe tbody tr th:only-of-type {\n",
       "        vertical-align: middle;\n",
       "    }\n",
       "\n",
       "    .dataframe tbody tr th {\n",
       "        vertical-align: top;\n",
       "    }\n",
       "\n",
       "    .dataframe thead th {\n",
       "        text-align: right;\n",
       "    }\n",
       "</style>\n",
       "<table border=\"1\" class=\"dataframe\">\n",
       "  <thead>\n",
       "    <tr style=\"text-align: right;\">\n",
       "      <th></th>\n",
       "      <th>run_start_idx</th>\n",
       "      <th>run_end_idx</th>\n",
       "      <th>run_length</th>\n",
       "    </tr>\n",
       "  </thead>\n",
       "  <tbody>\n",
       "    <tr>\n",
       "      <th>0</th>\n",
       "      <td>125</td>\n",
       "      <td>131</td>\n",
       "      <td>7</td>\n",
       "    </tr>\n",
       "    <tr>\n",
       "      <th>1</th>\n",
       "      <td>190</td>\n",
       "      <td>195</td>\n",
       "      <td>6</td>\n",
       "    </tr>\n",
       "    <tr>\n",
       "      <th>2</th>\n",
       "      <td>320</td>\n",
       "      <td>327</td>\n",
       "      <td>8</td>\n",
       "    </tr>\n",
       "    <tr>\n",
       "      <th>3</th>\n",
       "      <td>484</td>\n",
       "      <td>491</td>\n",
       "      <td>8</td>\n",
       "    </tr>\n",
       "    <tr>\n",
       "      <th>4</th>\n",
       "      <td>977</td>\n",
       "      <td>983</td>\n",
       "      <td>7</td>\n",
       "    </tr>\n",
       "    <tr>\n",
       "      <th>5</th>\n",
       "      <td>2452</td>\n",
       "      <td>2457</td>\n",
       "      <td>6</td>\n",
       "    </tr>\n",
       "    <tr>\n",
       "      <th>6</th>\n",
       "      <td>2705</td>\n",
       "      <td>2711</td>\n",
       "      <td>7</td>\n",
       "    </tr>\n",
       "    <tr>\n",
       "      <th>7</th>\n",
       "      <td>2779</td>\n",
       "      <td>2784</td>\n",
       "      <td>6</td>\n",
       "    </tr>\n",
       "    <tr>\n",
       "      <th>8</th>\n",
       "      <td>2857</td>\n",
       "      <td>2862</td>\n",
       "      <td>6</td>\n",
       "    </tr>\n",
       "    <tr>\n",
       "      <th>9</th>\n",
       "      <td>3052</td>\n",
       "      <td>3058</td>\n",
       "      <td>7</td>\n",
       "    </tr>\n",
       "    <tr>\n",
       "      <th>10</th>\n",
       "      <td>3394</td>\n",
       "      <td>3401</td>\n",
       "      <td>8</td>\n",
       "    </tr>\n",
       "    <tr>\n",
       "      <th>11</th>\n",
       "      <td>3437</td>\n",
       "      <td>3442</td>\n",
       "      <td>6</td>\n",
       "    </tr>\n",
       "    <tr>\n",
       "      <th>12</th>\n",
       "      <td>3762</td>\n",
       "      <td>3767</td>\n",
       "      <td>6</td>\n",
       "    </tr>\n",
       "    <tr>\n",
       "      <th>13</th>\n",
       "      <td>3852</td>\n",
       "      <td>3859</td>\n",
       "      <td>8</td>\n",
       "    </tr>\n",
       "    <tr>\n",
       "      <th>14</th>\n",
       "      <td>4059</td>\n",
       "      <td>4064</td>\n",
       "      <td>6</td>\n",
       "    </tr>\n",
       "    <tr>\n",
       "      <th>15</th>\n",
       "      <td>5158</td>\n",
       "      <td>5163</td>\n",
       "      <td>6</td>\n",
       "    </tr>\n",
       "    <tr>\n",
       "      <th>16</th>\n",
       "      <td>5351</td>\n",
       "      <td>5360</td>\n",
       "      <td>10</td>\n",
       "    </tr>\n",
       "    <tr>\n",
       "      <th>17</th>\n",
       "      <td>5453</td>\n",
       "      <td>5458</td>\n",
       "      <td>6</td>\n",
       "    </tr>\n",
       "    <tr>\n",
       "      <th>18</th>\n",
       "      <td>5861</td>\n",
       "      <td>5867</td>\n",
       "      <td>7</td>\n",
       "    </tr>\n",
       "    <tr>\n",
       "      <th>19</th>\n",
       "      <td>6221</td>\n",
       "      <td>6226</td>\n",
       "      <td>6</td>\n",
       "    </tr>\n",
       "    <tr>\n",
       "      <th>20</th>\n",
       "      <td>6572</td>\n",
       "      <td>6579</td>\n",
       "      <td>8</td>\n",
       "    </tr>\n",
       "    <tr>\n",
       "      <th>21</th>\n",
       "      <td>6993</td>\n",
       "      <td>6999</td>\n",
       "      <td>7</td>\n",
       "    </tr>\n",
       "    <tr>\n",
       "      <th>22</th>\n",
       "      <td>7090</td>\n",
       "      <td>7097</td>\n",
       "      <td>8</td>\n",
       "    </tr>\n",
       "    <tr>\n",
       "      <th>23</th>\n",
       "      <td>7525</td>\n",
       "      <td>7532</td>\n",
       "      <td>8</td>\n",
       "    </tr>\n",
       "    <tr>\n",
       "      <th>24</th>\n",
       "      <td>8342</td>\n",
       "      <td>8347</td>\n",
       "      <td>6</td>\n",
       "    </tr>\n",
       "    <tr>\n",
       "      <th>25</th>\n",
       "      <td>8628</td>\n",
       "      <td>8633</td>\n",
       "      <td>6</td>\n",
       "    </tr>\n",
       "    <tr>\n",
       "      <th>26</th>\n",
       "      <td>8773</td>\n",
       "      <td>8779</td>\n",
       "      <td>7</td>\n",
       "    </tr>\n",
       "  </tbody>\n",
       "</table>\n",
       "</div>"
      ],
      "text/plain": [
       "    run_start_idx  run_end_idx  run_length\n",
       "0             125          131           7\n",
       "1             190          195           6\n",
       "2             320          327           8\n",
       "3             484          491           8\n",
       "4             977          983           7\n",
       "5            2452         2457           6\n",
       "6            2705         2711           7\n",
       "7            2779         2784           6\n",
       "8            2857         2862           6\n",
       "9            3052         3058           7\n",
       "10           3394         3401           8\n",
       "11           3437         3442           6\n",
       "12           3762         3767           6\n",
       "13           3852         3859           8\n",
       "14           4059         4064           6\n",
       "15           5158         5163           6\n",
       "16           5351         5360          10\n",
       "17           5453         5458           6\n",
       "18           5861         5867           7\n",
       "19           6221         6226           6\n",
       "20           6572         6579           8\n",
       "21           6993         6999           7\n",
       "22           7090         7097           8\n",
       "23           7525         7532           8\n",
       "24           8342         8347           6\n",
       "25           8628         8633           6\n",
       "26           8773         8779           7"
      ]
     },
     "execution_count": 34,
     "metadata": {},
     "output_type": "execute_result"
    }
   ],
   "source": [
    "RUN_LENGTH = 8\n",
    "attack_series = df_clf['attack_detected'].reset_index(drop=True)\n",
    "\n",
    "consecutive_hits = []\n",
    "current_run = 0\n",
    "for value in attack_series:\n",
    "    if value == 1:\n",
    "        current_run += 1\n",
    "    else:\n",
    "        current_run = 0\n",
    "    consecutive_hits.append(current_run)\n",
    "\n",
    "spc_frame = pd.DataFrame({\n",
    "    'index_position': attack_series.index,\n",
    "    'attack_detected': attack_series,\n",
    "    'consecutive_hits': consecutive_hits,\n",
    "})\n",
    "\n",
    "run_records = []\n",
    "run_active = False\n",
    "run_start = None\n",
    "for idx, row in spc_frame[['attack_detected', 'consecutive_hits']].iterrows():\n",
    "    run_len = row['consecutive_hits']\n",
    "    if run_len >= RUN_LENGTH:\n",
    "        if not run_active:\n",
    "            run_active = True\n",
    "            run_start = idx - run_len + 1\n",
    "    else:\n",
    "        if run_active:\n",
    "            run_records.append({\n",
    "                'run_start_idx': run_start,\n",
    "                'run_end_idx': idx - 1,\n",
    "                'run_length': spc_frame.loc[idx - 1, 'consecutive_hits'],\n",
    "            })\n",
    "            run_active = False\n",
    "            run_start = None\n",
    "\n",
    "if run_active and run_start is not None:\n",
    "    run_records.append({\n",
    "        'run_start_idx': run_start,\n",
    "        'run_end_idx': len(spc_frame) - 1,\n",
    "        'run_length': spc_frame.loc[len(spc_frame) - 1, 'consecutive_hits'],\n",
    "    })\n",
    "\n",
    "run_summary = pd.DataFrame(run_records)\n",
    "run_summary"
   ]
  },
  {
   "cell_type": "code",
   "execution_count": null,
   "id": "30a68a52",
   "metadata": {},
   "outputs": [
    {
     "data": {
      "image/png": "[encoded data removed]",
      "text/plain": [
       "<Figure size 1200x400 with 1 Axes>"
      ]
     },
     "metadata": {},
     "output_type": "display_data"
    },
    {
     "name": "stdout",
     "output_type": "stream",
     "text": [
      "Found 27 SPC violations with runs of 6+ consecutive intrusions. Escalate for investigation.\n"
     ]
    }
   ],
   "source": [
    "fig, ax = plt.subplots(figsize=(12, 4))\n",
    "ax.plot(spc_frame['index_position'], spc_frame['attack_detected'], marker='o', linestyle='-', linewidth=1)\n",
    "ax.set_ylim(-0.1, 1.1)\n",
    "ax.set_xlabel('Observation Index')\n",
    "ax.set_ylabel('Attack Detected')\n",
    "ax.set_title(f'SPC Run Rule Check: ≥{RUN_LENGTH} Consecutive Intrusion Alerts')\n",
    "\n",
    "for _, run in run_summary.iterrows():\n",
    "    ax.axvspan(run['run_start_idx'], run['run_end_idx'], color='red', alpha=0.2)\n",
    "    ax.text(\n",
    "        (run['run_start_idx'] + run['run_end_idx']) / 2,\n",
    "        1.05,\n",
    "        f\"Run {int(run['run_length'])}\",\n",
    "        ha='center',\n",
    "        va='bottom',\n",
    "        fontsize=9,\n",
    "        color='red',\n",
    "    )\n",
    "\n",
    "ax.hlines(0.5, xmin=spc_frame['index_position'].min(), xmax=spc_frame['index_position'].max(), colors='gray', linestyles='dashed', linewidth=0.8)\n",
    "ax.margins(x=0.01)\n",
    "plt.tight_layout()\n",
    "plt.show()\n",
    "\n",
    "if run_summary.empty:\n",
    "    print(f'No SPC rule violations: no streaks of {RUN_LENGTH} or more consecutive intrusions found.')\n",
    "else:\n",
    "    print(f'Found {len(run_summary)} SPC violations with runs of {RUN_LENGTH}+ consecutive intrusions. Escalate for investigation.')"
   ]
  },
  {
   "cell_type": "code",
   "execution_count": null,
   "id": "d090e20f",
   "metadata": {},
   "outputs": [
    {
     "ename": "KeyError",
     "evalue": "'session_id'",
     "output_type": "error",
     "traceback": [
      "\u001b[31m---------------------------------------------------------------------------\u001b[39m",
      "\u001b[31mKeyError\u001b[39m                                  Traceback (most recent call last)",
      "\u001b[36mFile \u001b[39m\u001b[32mc:\\Users\\marka\\OneDrive\\Desktop\\Cyber\\.venv\\Lib\\site-packages\\pandas\\core\\indexes\\base.py:3790\u001b[39m, in \u001b[36mIndex.get_loc\u001b[39m\u001b[34m(self, key)\u001b[39m\n\u001b[32m   3789\u001b[39m \u001b[38;5;28;01mtry\u001b[39;00m:\n\u001b[32m-> \u001b[39m\u001b[32m3790\u001b[39m     \u001b[38;5;28;01mreturn\u001b[39;00m \u001b[38;5;28;43mself\u001b[39;49m\u001b[43m.\u001b[49m\u001b[43m_engine\u001b[49m\u001b[43m.\u001b[49m\u001b[43mget_loc\u001b[49m\u001b[43m(\u001b[49m\u001b[43mcasted_key\u001b[49m\u001b[43m)\u001b[49m\n\u001b[32m   3791\u001b[39m \u001b[38;5;28;01mexcept\u001b[39;00m \u001b[38;5;167;01mKeyError\u001b[39;00m \u001b[38;5;28;01mas\u001b[39;00m err:\n",
      "\u001b[36mFile \u001b[39m\u001b[32mindex.pyx:152\u001b[39m, in \u001b[36mpandas._libs.index.IndexEngine.get_loc\u001b[39m\u001b[34m()\u001b[39m\n",
      "\u001b[36mFile \u001b[39m\u001b[32mindex.pyx:181\u001b[39m, in \u001b[36mpandas._libs.index.IndexEngine.get_loc\u001b[39m\u001b[34m()\u001b[39m\n",
      "\u001b[36mFile \u001b[39m\u001b[32mpandas\\_libs\\hashtable_class_helper.pxi:7080\u001b[39m, in \u001b[36mpandas._libs.hashtable.PyObjectHashTable.get_item\u001b[39m\u001b[34m()\u001b[39m\n",
      "\u001b[36mFile \u001b[39m\u001b[32mpandas\\_libs\\hashtable_class_helper.pxi:7088\u001b[39m, in \u001b[36mpandas._libs.hashtable.PyObjectHashTable.get_item\u001b[39m\u001b[34m()\u001b[39m\n",
      "\u001b[31mKeyError\u001b[39m: 'session_id'",
      "\nThe above exception was the direct cause of the following exception:\n",
      "\u001b[31mKeyError\u001b[39m                                  Traceback (most recent call last)",
      "\u001b[36mCell\u001b[39m\u001b[36m \u001b[39m\u001b[32mIn[41]\u001b[39m\u001b[32m, line 4\u001b[39m\n\u001b[32m      2\u001b[39m spc_frame[\u001b[33m'\u001b[39m\u001b[33mis_attack\u001b[39m\u001b[33m'\u001b[39m] = spc_frame[\u001b[33m'\u001b[39m\u001b[33mattack_detected\u001b[39m\u001b[33m'\u001b[39m].apply(\u001b[38;5;28;01mlambda\u001b[39;00m x: \u001b[32m1\u001b[39m \u001b[38;5;28;01mif\u001b[39;00m x == \u001b[32m1\u001b[39m \u001b[38;5;28;01melse\u001b[39;00m \u001b[32m0\u001b[39m)\n\u001b[32m      3\u001b[39m \u001b[38;5;66;03m# add the Session ID from the original dfspc_frame['session_id'] = df_clf['session_id']\u001b[39;00m\n\u001b[32m----> \u001b[39m\u001b[32m4\u001b[39m spc_frame[\u001b[33m'\u001b[39m\u001b[33msession_id\u001b[39m\u001b[33m'\u001b[39m] = \u001b[43mdf_clf\u001b[49m\u001b[43m[\u001b[49m\u001b[33;43m'\u001b[39;49m\u001b[33;43msession_id\u001b[39;49m\u001b[33;43m'\u001b[39;49m\u001b[43m]\u001b[49m\n\u001b[32m      5\u001b[39m spc_frame.to_csv(\u001b[33m'\u001b[39m\u001b[33mspc_frame_with_flags.csv\u001b[39m\u001b[33m'\u001b[39m, index=\u001b[38;5;28;01mFalse\u001b[39;00m)\n",
      "\u001b[36mFile \u001b[39m\u001b[32mc:\\Users\\marka\\OneDrive\\Desktop\\Cyber\\.venv\\Lib\\site-packages\\pandas\\core\\frame.py:3896\u001b[39m, in \u001b[36mDataFrame.__getitem__\u001b[39m\u001b[34m(self, key)\u001b[39m\n\u001b[32m   3894\u001b[39m \u001b[38;5;28;01mif\u001b[39;00m \u001b[38;5;28mself\u001b[39m.columns.nlevels > \u001b[32m1\u001b[39m:\n\u001b[32m   3895\u001b[39m     \u001b[38;5;28;01mreturn\u001b[39;00m \u001b[38;5;28mself\u001b[39m._getitem_multilevel(key)\n\u001b[32m-> \u001b[39m\u001b[32m3896\u001b[39m indexer = \u001b[38;5;28;43mself\u001b[39;49m\u001b[43m.\u001b[49m\u001b[43mcolumns\u001b[49m\u001b[43m.\u001b[49m\u001b[43mget_loc\u001b[49m\u001b[43m(\u001b[49m\u001b[43mkey\u001b[49m\u001b[43m)\u001b[49m\n\u001b[32m   3897\u001b[39m \u001b[38;5;28;01mif\u001b[39;00m is_integer(indexer):\n\u001b[32m   3898\u001b[39m     indexer = [indexer]\n",
      "\u001b[36mFile \u001b[39m\u001b[32mc:\\Users\\marka\\OneDrive\\Desktop\\Cyber\\.venv\\Lib\\site-packages\\pandas\\core\\indexes\\base.py:3797\u001b[39m, in \u001b[36mIndex.get_loc\u001b[39m\u001b[34m(self, key)\u001b[39m\n\u001b[32m   3792\u001b[39m     \u001b[38;5;28;01mif\u001b[39;00m \u001b[38;5;28misinstance\u001b[39m(casted_key, \u001b[38;5;28mslice\u001b[39m) \u001b[38;5;129;01mor\u001b[39;00m (\n\u001b[32m   3793\u001b[39m         \u001b[38;5;28misinstance\u001b[39m(casted_key, abc.Iterable)\n\u001b[32m   3794\u001b[39m         \u001b[38;5;129;01mand\u001b[39;00m \u001b[38;5;28many\u001b[39m(\u001b[38;5;28misinstance\u001b[39m(x, \u001b[38;5;28mslice\u001b[39m) \u001b[38;5;28;01mfor\u001b[39;00m x \u001b[38;5;129;01min\u001b[39;00m casted_key)\n\u001b[32m   3795\u001b[39m     ):\n\u001b[32m   3796\u001b[39m         \u001b[38;5;28;01mraise\u001b[39;00m InvalidIndexError(key)\n\u001b[32m-> \u001b[39m\u001b[32m3797\u001b[39m     \u001b[38;5;28;01mraise\u001b[39;00m \u001b[38;5;167;01mKeyError\u001b[39;00m(key) \u001b[38;5;28;01mfrom\u001b[39;00m\u001b[38;5;250m \u001b[39m\u001b[34;01merr\u001b[39;00m\n\u001b[32m   3798\u001b[39m \u001b[38;5;28;01mexcept\u001b[39;00m \u001b[38;5;167;01mTypeError\u001b[39;00m:\n\u001b[32m   3799\u001b[39m     \u001b[38;5;66;03m# If we have a listlike key, _check_indexing_error will raise\u001b[39;00m\n\u001b[32m   3800\u001b[39m     \u001b[38;5;66;03m#  InvalidIndexError. Otherwise we fall through and re-raise\u001b[39;00m\n\u001b[32m   3801\u001b[39m     \u001b[38;5;66;03m#  the TypeError.\u001b[39;00m\n\u001b[32m   3802\u001b[39m     \u001b[38;5;28mself\u001b[39m._check_indexing_error(key)\n",
      "\u001b[31mKeyError\u001b[39m: 'session_id'"
     ]
    }
   ],
   "source": [
    "# add flags for these to the df and save to an csv\n",
    "spc_frame['is_attack'] = spc_frame['attack_detected'].apply(lambda x: 1 if x == 1 else 0)\n",
    "# add the Session ID from the original df spc_frame['session_id'] = df_clf['session_id']\n",
    "spc_frame['session_id'] = df_clf['session_id']\n",
    "spc_frame.to_csv('spc_frame_with_flags.csv', index=False)"
   ]
  },
  {
   "cell_type": "code",
   "execution_count": null,
   "id": "36773005",
   "metadata": {},
   "outputs": [
    {
     "ename": "KeyError",
     "evalue": "\"['session_id', 'network_packet_size', 'session_duration', 'ip_reputation_score'] not found in axis\"",
     "output_type": "error",
     "traceback": [
      "\u001b[31m---------------------------------------------------------------------------\u001b[39m",
      "\u001b[31mKeyError\u001b[39m                                  Traceback (most recent call last)",
      "\u001b[36mCell\u001b[39m\u001b[36m \u001b[39m\u001b[32mIn[36]\u001b[39m\u001b[32m, line 22\u001b[39m\n\u001b[32m      1\u001b[39m \u001b[33;03m\"\"\"\u001b[39;00m\n\u001b[32m      2\u001b[39m \u001b[33;03mdrop the columns that are not needed for modelling\u001b[39;00m\n\u001b[32m      3\u001b[39m \u001b[33;03m#   Column                    Non-Null Count  Dtype  \u001b[39;00m\n\u001b[32m   (...)\u001b[39m\u001b[32m     19\u001b[39m \u001b[33;03m 14  fail_ratio                8807 non-null   float64\u001b[39;00m\n\u001b[32m     20\u001b[39m \u001b[33;03m\"\"\"\u001b[39;00m\n\u001b[32m     21\u001b[39m \u001b[38;5;66;03m# drop the columns marked with * because they have been transformed or in the case of session ID it adds no info.\u001b[39;00m\n\u001b[32m---> \u001b[39m\u001b[32m22\u001b[39m \u001b[43mdf_clf\u001b[49m\u001b[43m.\u001b[49m\u001b[43mdrop\u001b[49m\u001b[43m(\u001b[49m\u001b[43mcolumns\u001b[49m\u001b[43m=\u001b[49m\u001b[43m[\u001b[49m\u001b[33;43m'\u001b[39;49m\u001b[33;43msession_id\u001b[39;49m\u001b[33;43m'\u001b[39;49m\u001b[43m,\u001b[49m\u001b[43m \u001b[49m\u001b[33;43m'\u001b[39;49m\u001b[33;43mnetwork_packet_size\u001b[39;49m\u001b[33;43m'\u001b[39;49m\u001b[43m,\u001b[49m\u001b[43m \u001b[49m\u001b[33;43m'\u001b[39;49m\u001b[33;43msession_duration\u001b[39;49m\u001b[33;43m'\u001b[39;49m\u001b[43m,\u001b[49m\u001b[43m \u001b[49m\u001b[33;43m'\u001b[39;49m\u001b[33;43mip_reputation_score\u001b[39;49m\u001b[33;43m'\u001b[39;49m\u001b[43m]\u001b[49m\u001b[43m,\u001b[49m\u001b[43m \u001b[49m\u001b[43minplace\u001b[49m\u001b[43m=\u001b[49m\u001b[38;5;28;43;01mTrue\u001b[39;49;00m\u001b[43m)\u001b[49m\n",
      "\u001b[36mFile \u001b[39m\u001b[32mc:\\Users\\marka\\OneDrive\\Desktop\\Cyber\\.venv\\Lib\\site-packages\\pandas\\core\\frame.py:5347\u001b[39m, in \u001b[36mDataFrame.drop\u001b[39m\u001b[34m(self, labels, axis, index, columns, level, inplace, errors)\u001b[39m\n\u001b[32m   5199\u001b[39m \u001b[38;5;28;01mdef\u001b[39;00m\u001b[38;5;250m \u001b[39m\u001b[34mdrop\u001b[39m(\n\u001b[32m   5200\u001b[39m     \u001b[38;5;28mself\u001b[39m,\n\u001b[32m   5201\u001b[39m     labels: IndexLabel | \u001b[38;5;28;01mNone\u001b[39;00m = \u001b[38;5;28;01mNone\u001b[39;00m,\n\u001b[32m   (...)\u001b[39m\u001b[32m   5208\u001b[39m     errors: IgnoreRaise = \u001b[33m\"\u001b[39m\u001b[33mraise\u001b[39m\u001b[33m\"\u001b[39m,\n\u001b[32m   5209\u001b[39m ) -> DataFrame | \u001b[38;5;28;01mNone\u001b[39;00m:\n\u001b[32m   5210\u001b[39m \u001b[38;5;250m    \u001b[39m\u001b[33;03m\"\"\"\u001b[39;00m\n\u001b[32m   5211\u001b[39m \u001b[33;03m    Drop specified labels from rows or columns.\u001b[39;00m\n\u001b[32m   5212\u001b[39m \n\u001b[32m   (...)\u001b[39m\u001b[32m   5345\u001b[39m \u001b[33;03m            weight  1.0     0.8\u001b[39;00m\n\u001b[32m   5346\u001b[39m \u001b[33;03m    \"\"\"\u001b[39;00m\n\u001b[32m-> \u001b[39m\u001b[32m5347\u001b[39m     \u001b[38;5;28;01mreturn\u001b[39;00m \u001b[38;5;28;43msuper\u001b[39;49m\u001b[43m(\u001b[49m\u001b[43m)\u001b[49m\u001b[43m.\u001b[49m\u001b[43mdrop\u001b[49m\u001b[43m(\u001b[49m\n\u001b[32m   5348\u001b[39m \u001b[43m        \u001b[49m\u001b[43mlabels\u001b[49m\u001b[43m=\u001b[49m\u001b[43mlabels\u001b[49m\u001b[43m,\u001b[49m\n\u001b[32m   5349\u001b[39m \u001b[43m        \u001b[49m\u001b[43maxis\u001b[49m\u001b[43m=\u001b[49m\u001b[43maxis\u001b[49m\u001b[43m,\u001b[49m\n\u001b[32m   5350\u001b[39m \u001b[43m        \u001b[49m\u001b[43mindex\u001b[49m\u001b[43m=\u001b[49m\u001b[43mindex\u001b[49m\u001b[43m,\u001b[49m\n\u001b[32m   5351\u001b[39m \u001b[43m        \u001b[49m\u001b[43mcolumns\u001b[49m\u001b[43m=\u001b[49m\u001b[43mcolumns\u001b[49m\u001b[43m,\u001b[49m\n\u001b[32m   5352\u001b[39m \u001b[43m        \u001b[49m\u001b[43mlevel\u001b[49m\u001b[43m=\u001b[49m\u001b[43mlevel\u001b[49m\u001b[43m,\u001b[49m\n\u001b[32m   5353\u001b[39m \u001b[43m        \u001b[49m\u001b[43minplace\u001b[49m\u001b[43m=\u001b[49m\u001b[43minplace\u001b[49m\u001b[43m,\u001b[49m\n\u001b[32m   5354\u001b[39m \u001b[43m        \u001b[49m\u001b[43merrors\u001b[49m\u001b[43m=\u001b[49m\u001b[43merrors\u001b[49m\u001b[43m,\u001b[49m\n\u001b[32m   5355\u001b[39m \u001b[43m    \u001b[49m\u001b[43m)\u001b[49m\n",
      "\u001b[36mFile \u001b[39m\u001b[32mc:\\Users\\marka\\OneDrive\\Desktop\\Cyber\\.venv\\Lib\\site-packages\\pandas\\core\\generic.py:4711\u001b[39m, in \u001b[36mNDFrame.drop\u001b[39m\u001b[34m(self, labels, axis, index, columns, level, inplace, errors)\u001b[39m\n\u001b[32m   4709\u001b[39m \u001b[38;5;28;01mfor\u001b[39;00m axis, labels \u001b[38;5;129;01min\u001b[39;00m axes.items():\n\u001b[32m   4710\u001b[39m     \u001b[38;5;28;01mif\u001b[39;00m labels \u001b[38;5;129;01mis\u001b[39;00m \u001b[38;5;129;01mnot\u001b[39;00m \u001b[38;5;28;01mNone\u001b[39;00m:\n\u001b[32m-> \u001b[39m\u001b[32m4711\u001b[39m         obj = \u001b[43mobj\u001b[49m\u001b[43m.\u001b[49m\u001b[43m_drop_axis\u001b[49m\u001b[43m(\u001b[49m\u001b[43mlabels\u001b[49m\u001b[43m,\u001b[49m\u001b[43m \u001b[49m\u001b[43maxis\u001b[49m\u001b[43m,\u001b[49m\u001b[43m \u001b[49m\u001b[43mlevel\u001b[49m\u001b[43m=\u001b[49m\u001b[43mlevel\u001b[49m\u001b[43m,\u001b[49m\u001b[43m \u001b[49m\u001b[43merrors\u001b[49m\u001b[43m=\u001b[49m\u001b[43merrors\u001b[49m\u001b[43m)\u001b[49m\n\u001b[32m   4713\u001b[39m \u001b[38;5;28;01mif\u001b[39;00m inplace:\n\u001b[32m   4714\u001b[39m     \u001b[38;5;28mself\u001b[39m._update_inplace(obj)\n",
      "\u001b[36mFile \u001b[39m\u001b[32mc:\\Users\\marka\\OneDrive\\Desktop\\Cyber\\.venv\\Lib\\site-packages\\pandas\\core\\generic.py:4753\u001b[39m, in \u001b[36mNDFrame._drop_axis\u001b[39m\u001b[34m(self, labels, axis, level, errors, only_slice)\u001b[39m\n\u001b[32m   4751\u001b[39m         new_axis = axis.drop(labels, level=level, errors=errors)\n\u001b[32m   4752\u001b[39m     \u001b[38;5;28;01melse\u001b[39;00m:\n\u001b[32m-> \u001b[39m\u001b[32m4753\u001b[39m         new_axis = \u001b[43maxis\u001b[49m\u001b[43m.\u001b[49m\u001b[43mdrop\u001b[49m\u001b[43m(\u001b[49m\u001b[43mlabels\u001b[49m\u001b[43m,\u001b[49m\u001b[43m \u001b[49m\u001b[43merrors\u001b[49m\u001b[43m=\u001b[49m\u001b[43merrors\u001b[49m\u001b[43m)\u001b[49m\n\u001b[32m   4754\u001b[39m     indexer = axis.get_indexer(new_axis)\n\u001b[32m   4756\u001b[39m \u001b[38;5;66;03m# Case for non-unique axis\u001b[39;00m\n\u001b[32m   4757\u001b[39m \u001b[38;5;28;01melse\u001b[39;00m:\n",
      "\u001b[36mFile \u001b[39m\u001b[32mc:\\Users\\marka\\OneDrive\\Desktop\\Cyber\\.venv\\Lib\\site-packages\\pandas\\core\\indexes\\base.py:6992\u001b[39m, in \u001b[36mIndex.drop\u001b[39m\u001b[34m(self, labels, errors)\u001b[39m\n\u001b[32m   6990\u001b[39m \u001b[38;5;28;01mif\u001b[39;00m mask.any():\n\u001b[32m   6991\u001b[39m     \u001b[38;5;28;01mif\u001b[39;00m errors != \u001b[33m\"\u001b[39m\u001b[33mignore\u001b[39m\u001b[33m\"\u001b[39m:\n\u001b[32m-> \u001b[39m\u001b[32m6992\u001b[39m         \u001b[38;5;28;01mraise\u001b[39;00m \u001b[38;5;167;01mKeyError\u001b[39;00m(\u001b[33mf\u001b[39m\u001b[33m\"\u001b[39m\u001b[38;5;132;01m{\u001b[39;00mlabels[mask].tolist()\u001b[38;5;132;01m}\u001b[39;00m\u001b[33m not found in axis\u001b[39m\u001b[33m\"\u001b[39m)\n\u001b[32m   6993\u001b[39m     indexer = indexer[~mask]\n\u001b[32m   6994\u001b[39m \u001b[38;5;28;01mreturn\u001b[39;00m \u001b[38;5;28mself\u001b[39m.delete(indexer)\n",
      "\u001b[31mKeyError\u001b[39m: \"['session_id', 'network_packet_size', 'session_duration', 'ip_reputation_score'] not found in axis\""
     ]
    }
   ],
   "source": [
    "\"\"\"\n",
    "drop the columns that are not needed for modelling\n",
    "#   Column                    Non-Null Count  Dtype  \n",
    "---  ------                    --------------  -----  \n",
    "* 0   session_id                8807 non-null   object \n",
    "* 1   network_packet_size       8807 non-null   int64  \n",
    " 2   protocol_type             8807 non-null   object \n",
    " 3   login_attempts            8807 non-null   int64  \n",
    "* 4   session_duration          8807 non-null   float64\n",
    " 5   encryption_used           8807 non-null   object \n",
    "* 6   ip_reputation_score       8807 non-null   float64\n",
    " 7   failed_logins             8807 non-null   int64  \n",
    " 8   browser_type              8807 non-null   object \n",
    " 9   unusual_time_access       8807 non-null   int64  \n",
    " 10  attack_detected           8807 non-null   int64  \n",
    " 11  session_duration_log      8807 non-null   float64\n",
    " 12  ip_reputation_score_log   8807 non-null   float64\n",
    " 13  network_packet_size_is64  8807 non-null   bool   \n",
    " 14  fail_ratio                8807 non-null   float64\n",
    "\"\"\"\n",
    "# drop the columns marked with * because they have been transformed or in the case of session ID it adds no info.\n",
    "df_clf.drop(columns=['session_id', 'network_packet_size', 'session_duration', 'ip_reputation_score'], inplace=True)"
   ]
  },
  {
   "cell_type": "code",
   "execution_count": null,
   "id": "5c60d977",
   "metadata": {},
   "outputs": [
    {
     "name": "stdout",
     "output_type": "stream",
     "text": [
      "(8807, 11)\n"
     ]
    }
   ],
   "source": [
    "print(df_clf.shape)"
   ]
  },
  {
   "cell_type": "markdown",
   "id": "ecf964c0",
   "metadata": {},
   "source": [
    "We split the data into train and test sets.\n"
   ]
  },
  {
   "cell_type": "code",
   "execution_count": null,
   "id": "78b700e5",
   "metadata": {},
   "outputs": [
    {
     "name": "stdout",
     "output_type": "stream",
     "text": [
      "* Train set: (7045, 10) (7045,) \n",
      "* Test set: (1762, 10) (1762,)\n"
     ]
    }
   ],
   "source": [
    "# The target is attack_detected \n",
    "from sklearn.model_selection import train_test_split\n",
    "X_train, X_test,y_train, y_test = train_test_split(\n",
    "                                    df_clf.drop(['attack_detected'],axis=1),\n",
    "                                    df_clf['attack_detected'],\n",
    "                                    test_size=0.2,\n",
    "                                    random_state=101\n",
    "                                    )\n",
    "\n",
    "print(\"* Train set:\", X_train.shape, y_train.shape, \"\\n* Test set:\", X_test.shape, y_test.shape)\n"
   ]
  },
  {
   "cell_type": "markdown",
   "id": "2b12182a",
   "metadata": {},
   "source": [
    " And define the pipeline steps considering:\n",
    "* data cleaning (median imputation, categorical imputation).\n",
    "* feature engineering (categorical encoding).\n",
    "* feature scaling.\n",
    "* feature selection (note we don't specify the algorithm, we pass in a variable called `model`).\n",
    "*  and modelling (note we don't specify the algorithm, we pass in a variable called `model`).\n",
    "\n",
    "\"> Previously, we covered the definition of data cleaning and feature-engineering/scaling/selection steps, and in this exercise, we provide the appropriate actions (imputations and encoding).\n"
   ]
  },
  {
   "cell_type": "markdown",
   "id": "c67bf0a9",
   "metadata": {},
   "source": [
    "We will use one-hot encoding as the categorical variable has no natural order between its categories.\n",
    "\n",
    "browser_type (Chrome, Firefox, Safari, Edge, Unknown)\n",
    "protocol_type (TCP, UDP, ICMP)\n",
    "encryption_used (eg AES, DES, No encrytion)"
   ]
  },
  {
   "cell_type": "code",
   "execution_count": null,
   "id": "649b2b2a",
   "metadata": {},
   "outputs": [],
   "source": [
    "def PipelineOptimization(model):\n",
    "    pipeline_base = Pipeline([\n",
    "        (\"median\", MeanMedianImputer(imputation_method=\"median\", variables=[\"ip_reputation_score_log\"])),\n",
    "        (\"categorical_imputer\", CategoricalImputer(imputation_method=\"frequent\", variables=[\"browser_type\"])),\n",
    "        (\"onehot\", OneHotEncoder(variables=[\"browser_type\", \"protocol_type\", \"encryption_used\"], drop_last=True)),\n",
    "        (\"feat_scaling\", StandardScaler()),\n",
    "        (\"feat_selection\", SelectFromModel(model)),\n",
    "        (\"model\", model),\n",
    "    ])\n",
    "    return pipeline_base"
   ]
  },
  {
   "cell_type": "markdown",
   "id": "987ad469",
   "metadata": {},
   "source": [
    "Next, we create a Python class (HyperparameterOptimizationSearch) which aims to fit a set of algorithms with multiple hyperparameters. The logic is: \n",
    "* The developer defines a set of algorithms and their respective hyperparameter values.\n",
    "* The code iterates on each algorithm and fits pipelines using GridSearchCV considering their respective hyperparameter values. The result is stored. \n",
    "* That is repeated for all algorithms that the user listed.\n",
    "* Once all pipelines are trained, the developer can retrieve a list with a performance result summary and an object that contains all the trained pipelines. The developer can then subset the best pipeline.\n",
    "\n",
    "\n",
    "Explanation of the major parts of the Python class:\n",
    "\n",
    "* In the \\__init__ method, you pass in models and params as a dictionary of algorithms and their respective hyperparameters.\n",
    "* In the `fit` method, we loop on each algorithm and pass the algorithm to PipelineOptimization(). As a result, it will do a grid search on a set of hyperparameters for that given model. The result is stored, and the loop continues.\n",
    "* The `score_summary` method returns all pipelines and a DataFrame with a performance summary for all of the algorithms.\n",
    "\n"
   ]
  },
  {
   "cell_type": "code",
   "execution_count": null,
   "id": "48bc09bd",
   "metadata": {},
   "outputs": [],
   "source": [
    "class HyperparameterOptimizationSearch:\n",
    "\n",
    "    def __init__(self, models, params):\n",
    "        self.models = models\n",
    "        self.params = params\n",
    "        self.keys = models.keys()\n",
    "        self.grid_searches = {}\n",
    "\n",
    "    def fit(self, X, y, cv, n_jobs, verbose=1, scoring=None, refit=False):\n",
    "        for key in self.keys:\n",
    "            print(f\"\\nRunning GridSearchCV for {key} \\n\")\n",
    "            model = PipelineOptimization(self.models[key])\n",
    "\n",
    "            params = self.params[key]\n",
    "            gs = GridSearchCV(model, params, cv=cv, n_jobs=n_jobs, verbose=verbose, scoring=scoring)\n",
    "            gs.fit(X,y)\n",
    "            self.grid_searches[key] = gs    \n",
    "\n",
    "    def score_summary(self, sort_by='mean_score'):\n",
    "        def row(key, scores, params):\n",
    "            d = {\n",
    "                 'estimator': key,\n",
    "                 'min_score': min(scores),\n",
    "                 'max_score': max(scores),\n",
    "                 'mean_score': np.mean(scores),\n",
    "                 'std_score': np.std(scores),\n",
    "            }\n",
    "            return pd.Series({**params,**d})\n",
    "\n",
    "        rows = []\n",
    "        for k in self.grid_searches:\n",
    "            params = self.grid_searches[k].cv_results_['params']\n",
    "            scores = []\n",
    "            for i in range(self.grid_searches[k].cv):\n",
    "                key = \"split{}_test_score\".format(i)\n",
    "                r = self.grid_searches[k].cv_results_[key]        \n",
    "                scores.append(r.reshape(len(params),1))\n",
    "\n",
    "            all_scores = np.hstack(scores)\n",
    "            for p, s in zip(params,all_scores):\n",
    "                rows.append((row(k, s, p)))\n",
    "\n",
    "        df = pd.concat(rows, axis=1).T.sort_values([sort_by], ascending=False)\n",
    "\n",
    "        columns = ['estimator', 'min_score', 'mean_score', 'max_score', 'std_score']\n",
    "        columns = columns + [c for c in df.columns if c not in columns]\n",
    "\n",
    "        return df[columns], self.grid_searches\n"
   ]
  },
  {
   "cell_type": "markdown",
   "id": "4039c0a7",
   "metadata": {},
   "source": [
    " We now define a list of models and their respective hyperparameters. \n",
    "* The first dictionary is related to the algorithms.\n",
    "  * We create a dictionary where the key is the model name (you can use any name here, but we suggest using the estimator name), and the value is the estimator object. For example, for the decision tree, we use DecisionTreeClassifier(random_state=0).\n",
    "* If it is a multiclass classification, so we consider all algorithms bar logistic regression (since that is more suitable for binary classification).\n"
   ]
  },
  {
   "cell_type": "code",
   "execution_count": null,
   "id": "c7ef0634",
   "metadata": {},
   "outputs": [],
   "source": [
    "models_search = {\n",
    "    \"DecisionTreeClassifier\":DecisionTreeClassifier(random_state=0),\n",
    "    \"RandomForestClassifier\":RandomForestClassifier(random_state=0),\n",
    "    \"GradientBoostingClassifier\":GradientBoostingClassifier(random_state=0),\n",
    "    \"ExtraTreesClassifier\":ExtraTreesClassifier(random_state=0),\n",
    "    \"AdaBoostClassifier\":AdaBoostClassifier(random_state=0),\n",
    "}\n"
   ]
  },
  {
   "cell_type": "markdown",
   "id": "5d14c994",
   "metadata": {},
   "source": [
    " The other dictionary relates to the hyperparameter values.\n",
    "  * Its keys should map the keys from the models' dictionary.\n",
    "  * For each key, the value will be a dictionary, whose keys will be the hyperparameter names and their values as a list of hyperparameter values.\n",
    "  * Look at the example and see that RandomForestClassifier has two hyperparameters: n_estimators and max_depth. For each hyperparameter, we set a list with the determined values.\n",
    "  * When you want to consider only the default hyperparameters, you just pass in an empty dictionary for a given algorithm. You will see that the other algorithms have an empty dict `{ }` as their hyperparameters, which means it will only consider the default hyperparameters. **But you may ask: why would we do that?**\n"
   ]
  },
  {
   "cell_type": "code",
   "execution_count": null,
   "id": "d80ed889",
   "metadata": {},
   "outputs": [],
   "source": [
    "params_search = {\n",
    "    \"DecisionTreeClassifier\":{},\n",
    "    \"RandomForestClassifier\":{\"model__n_estimators\":[50,20],\n",
    "                               \"model__max_depth\":[None,3,10]},\n",
    "    \"GradientBoostingClassifier\":{},\n",
    "    \"ExtraTreesClassifier\":{},\n",
    "    \"AdaBoostClassifier\":{},\n",
    "}\n"
   ]
  },
  {
   "cell_type": "markdown",
   "id": "4903c454",
   "metadata": {},
   "source": [
    "That is useful when we define a strategy to speed up the hyperparameter optimisation process.\n",
    "* You noticed the idea is to fit multiple models with multiple hyperparameter options. But the time needed to compute all of that based on your hardware capability has a cost. \n",
    "* It would make sense to do a quick search using the default hyperparameters across all listed algorithms. The result will show the algorithms that look to fit your data the best, and this training process tends not to take long since it uses the default hyperparameters.\n",
    "* Then you use the best two or three algorithms and finally do an extensive search so that you can fine-tune your pipeline performance.\n",
    "\n",
    "\n",
    "Let's do a hyperparameter optimisation search using the **default hyperparameters values first**.\n"
   ]
  },
  {
   "cell_type": "code",
   "execution_count": null,
   "id": "00b60d65",
   "metadata": {},
   "outputs": [],
   "source": [
    "params_search = {\n",
    "    \"DecisionTreeClassifier\":{},\n",
    "    \"RandomForestClassifier\":{},\n",
    "    \"GradientBoostingClassifier\":{},\n",
    "    \"ExtraTreesClassifier\":{},\n",
    "    \"AdaBoostClassifier\":{},\n",
    "}\n"
   ]
  },
  {
   "cell_type": "markdown",
   "id": "0bad4191",
   "metadata": {},
   "source": [
    "We now use our custom class `HyperparameterOptimizationSearch` to assign an object called search (you can use whatever name you wish).\n",
    "* We pass in two arguments: models and params, which are the two dictionaries we set in the previous cells: models_search and params_search.\n",
    "* The goal here is to use the default hyperparameters to find the type of algorithms that look to best fit your data.\n",
    "* Next, we fit this object, meaning we will fit all the algorithms using GridSearchCV. Therefore, we pass in the `training data` (X_train, y_train), `scoring` (in this case, as it's a teaching example, we arbitrarily chose accuracy) and `cv` (we defined 2 to speed up the process).\n"
   ]
  },
  {
   "cell_type": "code",
   "execution_count": null,
   "id": "a1012507",
   "metadata": {},
   "outputs": [
    {
     "name": "stdout",
     "output_type": "stream",
     "text": [
      "\n",
      "Running GridSearchCV for DecisionTreeClassifier \n",
      "\n",
      "Fitting 2 folds for each of 1 candidates, totalling 2 fits\n"
     ]
    },
    {
     "name": "stdout",
     "output_type": "stream",
     "text": [
      "\n",
      "Running GridSearchCV for RandomForestClassifier \n",
      "\n",
      "Fitting 2 folds for each of 1 candidates, totalling 2 fits\n",
      "\n",
      "Running GridSearchCV for GradientBoostingClassifier \n",
      "\n",
      "Fitting 2 folds for each of 1 candidates, totalling 2 fits\n",
      "\n",
      "Running GridSearchCV for GradientBoostingClassifier \n",
      "\n",
      "Fitting 2 folds for each of 1 candidates, totalling 2 fits\n",
      "\n",
      "Running GridSearchCV for ExtraTreesClassifier \n",
      "\n",
      "Fitting 2 folds for each of 1 candidates, totalling 2 fits\n",
      "\n",
      "Running GridSearchCV for ExtraTreesClassifier \n",
      "\n",
      "Fitting 2 folds for each of 1 candidates, totalling 2 fits\n",
      "\n",
      "Running GridSearchCV for AdaBoostClassifier \n",
      "\n",
      "Fitting 2 folds for each of 1 candidates, totalling 2 fits\n",
      "\n",
      "Running GridSearchCV for AdaBoostClassifier \n",
      "\n",
      "Fitting 2 folds for each of 1 candidates, totalling 2 fits\n"
     ]
    }
   ],
   "source": [
    "search = HyperparameterOptimizationSearch(models=models_search, params=params_search)\n",
    "search.fit(X_train, y_train,\n",
    "           scoring='accuracy',\n",
    "           n_jobs=-1, # use all processors, but one\n",
    "           cv=2)\n"
   ]
  },
  {
   "cell_type": "markdown",
   "id": "df3e3320",
   "metadata": {},
   "source": [
    "Our method `.score_summary` returns a DataFrame with all the training results summary and a dictionary containing all pipelines.\n",
    "* We grab both and first check the results summary.\n"
   ]
  },
  {
   "cell_type": "code",
   "execution_count": null,
   "id": "24ff2c98",
   "metadata": {},
   "outputs": [
    {
     "data": {
      "application/vnd.microsoft.datawrangler.viewer.v0+json": {
       "columns": [
        {
         "name": "index",
         "rawType": "int64",
         "type": "integer"
        },
        {
         "name": "estimator",
         "rawType": "object",
         "type": "string"
        },
        {
         "name": "min_score",
         "rawType": "object",
         "type": "unknown"
        },
        {
         "name": "mean_score",
         "rawType": "object",
         "type": "unknown"
        },
        {
         "name": "max_score",
         "rawType": "object",
         "type": "unknown"
        },
        {
         "name": "std_score",
         "rawType": "object",
         "type": "unknown"
        }
       ],
       "ref": "8e20858a-f1e1-48e9-ba70-d9e1cee58725",
       "rows": [
        [
         "2",
         "GradientBoostingClassifier",
         "0.8603066439522998",
         "0.8623134128078275",
         "0.8643201816633551",
         "0.002006768855527641"
        ],
        [
         "1",
         "RandomForestClassifier",
         "0.84412265758092",
         "0.8481186662869118",
         "0.8521146749929037",
         "0.003996008705991871"
        ],
        [
         "3",
         "ExtraTreesClassifier",
         "0.8157296990346394",
         "0.8221424538318244",
         "0.8285552086290093",
         "0.00641275479718495"
        ],
        [
         "0",
         "DecisionTreeClassifier",
         "0.7708688245315162",
         "0.7804102851014095",
         "0.7899517456713029",
         "0.009541460569893356"
        ],
        [
         "4",
         "AdaBoostClassifier",
         "0.6533219761499148",
         "0.6547904232154627",
         "0.6562588702810105",
         "0.0014684470655478288"
        ]
       ],
       "shape": {
        "columns": 5,
        "rows": 5
       }
      },
      "text/html": [
       "<div>\n",
       "<style scoped>\n",
       "    .dataframe tbody tr th:only-of-type {\n",
       "        vertical-align: middle;\n",
       "    }\n",
       "\n",
       "    .dataframe tbody tr th {\n",
       "        vertical-align: top;\n",
       "    }\n",
       "\n",
       "    .dataframe thead th {\n",
       "        text-align: right;\n",
       "    }\n",
       "</style>\n",
       "<table border=\"1\" class=\"dataframe\">\n",
       "  <thead>\n",
       "    <tr style=\"text-align: right;\">\n",
       "      <th></th>\n",
       "      <th>estimator</th>\n",
       "      <th>min_score</th>\n",
       "      <th>mean_score</th>\n",
       "      <th>max_score</th>\n",
       "      <th>std_score</th>\n",
       "    </tr>\n",
       "  </thead>\n",
       "  <tbody>\n",
       "    <tr>\n",
       "      <th>2</th>\n",
       "      <td>GradientBoostingClassifier</td>\n",
       "      <td>0.860307</td>\n",
       "      <td>0.862313</td>\n",
       "      <td>0.86432</td>\n",
       "      <td>0.002007</td>\n",
       "    </tr>\n",
       "    <tr>\n",
       "      <th>1</th>\n",
       "      <td>RandomForestClassifier</td>\n",
       "      <td>0.844123</td>\n",
       "      <td>0.848119</td>\n",
       "      <td>0.852115</td>\n",
       "      <td>0.003996</td>\n",
       "    </tr>\n",
       "    <tr>\n",
       "      <th>3</th>\n",
       "      <td>ExtraTreesClassifier</td>\n",
       "      <td>0.81573</td>\n",
       "      <td>0.822142</td>\n",
       "      <td>0.828555</td>\n",
       "      <td>0.006413</td>\n",
       "    </tr>\n",
       "    <tr>\n",
       "      <th>0</th>\n",
       "      <td>DecisionTreeClassifier</td>\n",
       "      <td>0.770869</td>\n",
       "      <td>0.78041</td>\n",
       "      <td>0.789952</td>\n",
       "      <td>0.009541</td>\n",
       "    </tr>\n",
       "    <tr>\n",
       "      <th>4</th>\n",
       "      <td>AdaBoostClassifier</td>\n",
       "      <td>0.653322</td>\n",
       "      <td>0.65479</td>\n",
       "      <td>0.656259</td>\n",
       "      <td>0.001468</td>\n",
       "    </tr>\n",
       "  </tbody>\n",
       "</table>\n",
       "</div>"
      ],
      "text/plain": [
       "                    estimator min_score mean_score max_score std_score\n",
       "2  GradientBoostingClassifier  0.860307   0.862313   0.86432  0.002007\n",
       "1      RandomForestClassifier  0.844123   0.848119  0.852115  0.003996\n",
       "3        ExtraTreesClassifier   0.81573   0.822142  0.828555  0.006413\n",
       "0      DecisionTreeClassifier  0.770869    0.78041  0.789952  0.009541\n",
       "4          AdaBoostClassifier  0.653322    0.65479  0.656259  0.001468"
      ]
     },
     "execution_count": 16,
     "metadata": {},
     "output_type": "execute_result"
    }
   ],
   "source": [
    "grid_search_summary, grid_search_pipelines = search.score_summary(sort_by='mean_score')\n",
    "grid_search_summary\n"
   ]
  },
  {
   "cell_type": "markdown",
   "id": "bc48458b",
   "metadata": {},
   "source": [
    "**On which algorithms would you spend time doing an extensive hyperparameter search?**\n",
    "* It depends on how distant the performance distribution is amongst the top performers.\n",
    "\n",
    "* However, there could be a case where for example, the top four had similar performance on the default hyperparameter, then you would do an extensive hyperparameter optimisation on these four.\n",
    " Let's define the new hyperparameters for the extensive search.\n",
    "* You don't need to pass in the same quantity of hyperparameters for each algorithm, and the assigned values in the list will depend on the hyperparameter.\n",
    "* There is no fixed number of values to be parsed in this list; just remember the more values and hyperparameters you parse, the more time it will take to fit all possible combinations.\n",
    "# you don't have to list in any specific order here necessarily \n"
   ]
  },
  {
   "cell_type": "code",
   "execution_count": null,
   "id": "e7218663",
   "metadata": {},
   "outputs": [],
   "source": [
    "models_search = {\n",
    "    \"GradientBoostingClassifier\":GradientBoostingClassifier(random_state=0),\n",
    "    \"RandomForestClassifier\":RandomForestClassifier(random_state=0),\n",
    "}\n",
    "\n",
    "params_search = {\n",
    "    # https://scikit-learn.org/stable/modules/generated/sklearn.ensemble.ExtraTreesClassifier.html\n",
    "    \"GradientBoostingClassifier\":{\"model__n_estimators\": [20,50],\n",
    "                            },\n",
    "    # https://scikit-learn.org/stable/modules/generated/sklearn.ensemble.RandomForestClassifier.html\n",
    "    \"RandomForestClassifier\":{\"model__n_estimators\": [40,20],\n",
    "                            },\n",
    "}\n"
   ]
  },
  {
   "cell_type": "markdown",
   "id": "4613777f",
   "metadata": {},
   "source": [
    "Let's fit again using our HyperparameterOptimizationSearch class and our updated information on models_search and params_search.\n",
    "* The other arguments remain the same.\n",
    "* The goal here is to do an extensive search on the algorithms that performed better in a default hyperparameter optimisation.\n"
   ]
  },
  {
   "cell_type": "code",
   "execution_count": null,
   "id": "d710ab6b",
   "metadata": {},
   "outputs": [
    {
     "name": "stdout",
     "output_type": "stream",
     "text": [
      "\n",
      "Running GridSearchCV for GradientBoostingClassifier \n",
      "\n",
      "Fitting 2 folds for each of 2 candidates, totalling 4 fits\n"
     ]
    },
    {
     "name": "stdout",
     "output_type": "stream",
     "text": [
      "\n",
      "Running GridSearchCV for RandomForestClassifier \n",
      "\n",
      "Fitting 2 folds for each of 2 candidates, totalling 4 fits\n"
     ]
    }
   ],
   "source": [
    "search = HyperparameterOptimizationSearch(models=models_search, params=params_search)\n",
    "search.fit(X_train, y_train,\n",
    "           scoring='accuracy',\n",
    "           n_jobs=-1,\n",
    "           cv=2)\n"
   ]
  },
  {
   "cell_type": "markdown",
   "id": "7dab9b62",
   "metadata": {},
   "source": [
    "<img width=\"3%\" height=\"3%\" align=\"top\"  src=\" https://codeinstitute.s3.amazonaws.com/predictive_analytics/jupyter_notebook_icons/Result.png\n",
    "\">\n",
    " Let's check the results summary with `.score_summary`\n",
    "* We could do a further round of extensive search with more hyperparameters and consider values around those that demonstrated good performance in this round. But for this teaching example, we are happy with the current search.\n"
   ]
  },
  {
   "cell_type": "code",
   "execution_count": null,
   "id": "1a486950",
   "metadata": {},
   "outputs": [
    {
     "data": {
      "application/vnd.microsoft.datawrangler.viewer.v0+json": {
       "columns": [
        {
         "name": "index",
         "rawType": "int64",
         "type": "integer"
        },
        {
         "name": "estimator",
         "rawType": "object",
         "type": "string"
        },
        {
         "name": "min_score",
         "rawType": "object",
         "type": "unknown"
        },
        {
         "name": "mean_score",
         "rawType": "object",
         "type": "unknown"
        },
        {
         "name": "max_score",
         "rawType": "object",
         "type": "unknown"
        },
        {
         "name": "std_score",
         "rawType": "object",
         "type": "unknown"
        },
        {
         "name": "model__n_estimators",
         "rawType": "object",
         "type": "unknown"
        }
       ],
       "ref": "f0db06e5-7090-42b8-a0f8-6853da11af65",
       "rows": [
        [
         "0",
         "GradientBoostingClassifier",
         "0.8634298693923906",
         "0.864442723512545",
         "0.8654555776326994",
         "0.001012854120154394",
         "20"
        ],
        [
         "1",
         "GradientBoostingClassifier",
         "0.8634298693923906",
         "0.864442723512545",
         "0.8654555776326994",
         "0.001012854120154394",
         "50"
        ],
        [
         "3",
         "RandomForestClassifier",
         "0.845542305508234",
         "0.8478350187773926",
         "0.8501277320465512",
         "0.0022927132691586416",
         "20"
        ],
        [
         "2",
         "RandomForestClassifier",
         "0.8421351504826803",
         "0.8454218187837756",
         "0.8487084870848709",
         "0.003286668301095308",
         "40"
        ]
       ],
       "shape": {
        "columns": 6,
        "rows": 4
       }
      },
      "text/html": [
       "<div>\n",
       "<style scoped>\n",
       "    .dataframe tbody tr th:only-of-type {\n",
       "        vertical-align: middle;\n",
       "    }\n",
       "\n",
       "    .dataframe tbody tr th {\n",
       "        vertical-align: top;\n",
       "    }\n",
       "\n",
       "    .dataframe thead th {\n",
       "        text-align: right;\n",
       "    }\n",
       "</style>\n",
       "<table border=\"1\" class=\"dataframe\">\n",
       "  <thead>\n",
       "    <tr style=\"text-align: right;\">\n",
       "      <th></th>\n",
       "      <th>estimator</th>\n",
       "      <th>min_score</th>\n",
       "      <th>mean_score</th>\n",
       "      <th>max_score</th>\n",
       "      <th>std_score</th>\n",
       "      <th>model__n_estimators</th>\n",
       "    </tr>\n",
       "  </thead>\n",
       "  <tbody>\n",
       "    <tr>\n",
       "      <th>0</th>\n",
       "      <td>GradientBoostingClassifier</td>\n",
       "      <td>0.86343</td>\n",
       "      <td>0.864443</td>\n",
       "      <td>0.865456</td>\n",
       "      <td>0.001013</td>\n",
       "      <td>20</td>\n",
       "    </tr>\n",
       "    <tr>\n",
       "      <th>1</th>\n",
       "      <td>GradientBoostingClassifier</td>\n",
       "      <td>0.86343</td>\n",
       "      <td>0.864443</td>\n",
       "      <td>0.865456</td>\n",
       "      <td>0.001013</td>\n",
       "      <td>50</td>\n",
       "    </tr>\n",
       "    <tr>\n",
       "      <th>3</th>\n",
       "      <td>RandomForestClassifier</td>\n",
       "      <td>0.845542</td>\n",
       "      <td>0.847835</td>\n",
       "      <td>0.850128</td>\n",
       "      <td>0.002293</td>\n",
       "      <td>20</td>\n",
       "    </tr>\n",
       "    <tr>\n",
       "      <th>2</th>\n",
       "      <td>RandomForestClassifier</td>\n",
       "      <td>0.842135</td>\n",
       "      <td>0.845422</td>\n",
       "      <td>0.848708</td>\n",
       "      <td>0.003287</td>\n",
       "      <td>40</td>\n",
       "    </tr>\n",
       "  </tbody>\n",
       "</table>\n",
       "</div>"
      ],
      "text/plain": [
       "                    estimator min_score mean_score max_score std_score  \\\n",
       "0  GradientBoostingClassifier   0.86343   0.864443  0.865456  0.001013   \n",
       "1  GradientBoostingClassifier   0.86343   0.864443  0.865456  0.001013   \n",
       "3      RandomForestClassifier  0.845542   0.847835  0.850128  0.002293   \n",
       "2      RandomForestClassifier  0.842135   0.845422  0.848708  0.003287   \n",
       "\n",
       "  model__n_estimators  \n",
       "0                  20  \n",
       "1                  50  \n",
       "3                  20  \n",
       "2                  40  "
      ]
     },
     "execution_count": 19,
     "metadata": {},
     "output_type": "execute_result"
    }
   ],
   "source": [
    "grid_search_summary, grid_search_pipelines = search.score_summary(sort_by='mean_score')\n",
    "grid_search_summary\n"
   ]
  },
  {
   "cell_type": "markdown",
   "id": "7df2a442",
   "metadata": {},
   "source": [
    "Programmatically, we grab the best model name by using `.iloc[ ]` on the first row and column from the previous DataFrame.\n"
   ]
  },
  {
   "cell_type": "code",
   "execution_count": null,
   "id": "b68962dd",
   "metadata": {},
   "outputs": [
    {
     "data": {
      "text/plain": [
       "'GradientBoostingClassifier'"
      ]
     },
     "execution_count": 20,
     "metadata": {},
     "output_type": "execute_result"
    }
   ],
   "source": [
    "best_model = grid_search_summary.iloc[0,0]\n",
    "best_model\n"
   ]
  },
  {
   "cell_type": "markdown",
   "id": "32b84bd4",
   "metadata": {},
   "source": [
    "Let's get the best model parameters.\n"
   ]
  },
  {
   "cell_type": "code",
   "execution_count": null,
   "id": "a9db52eb",
   "metadata": {},
   "outputs": [
    {
     "data": {
      "text/plain": [
       "{'model__n_estimators': 20}"
      ]
     },
     "execution_count": 21,
     "metadata": {},
     "output_type": "execute_result"
    }
   ],
   "source": [
    "grid_search_pipelines[best_model].best_params_\n"
   ]
  },
  {
   "cell_type": "markdown",
   "id": "d9e4550b",
   "metadata": {},
   "source": [
    "<img width=\"3%\" height=\"3%\" align=\"top\"  src=\"https://codeinstitute.s3.amazonaws.com/predictive_analytics/jupyter_notebook_icons/Icon%207-%20Note.png\"> Finally, we want to grab the best pipeline.\n",
    "* The object grid_search_pipelines contains all trained pipelines. We first subset the pipelines from the algorithm having the best performance (with `best_model`), then used `.best_estimator_` to retrieve the pipeline that has the algorithm and hyperparameter configuration that best suits our data.\n"
   ]
  },
  {
   "cell_type": "code",
   "execution_count": null,
   "id": "0a2907a5",
   "metadata": {},
   "outputs": [
    {
     "data": {
      "text/html": [
       "<style>#sk-container-id-1 {color: black;}#sk-container-id-1 pre{padding: 0;}#sk-container-id-1 div.sk-toggleable {background-color: white;}#sk-container-id-1 label.sk-toggleable__label {cursor: pointer;display: block;width: 100%;margin-bottom: 0;padding: 0.3em;box-sizing: border-box;text-align: center;}#sk-container-id-1 label.sk-toggleable__label-arrow:before {content: \"▸\";float: left;margin-right: 0.25em;color: #696969;}#sk-container-id-1 label.sk-toggleable__label-arrow:hover:before {color: black;}#sk-container-id-1 div.sk-estimator:hover label.sk-toggleable__label-arrow:before {color: black;}#sk-container-id-1 div.sk-toggleable__content {max-height: 0;max-width: 0;overflow: hidden;text-align: left;background-color: #f0f8ff;}#sk-container-id-1 div.sk-toggleable__content pre {margin: 0.2em;color: black;border-radius: 0.25em;background-color: #f0f8ff;}#sk-container-id-1 input.sk-toggleable__control:checked~div.sk-toggleable__content {max-height: 200px;max-width: 100%;overflow: auto;}#sk-container-id-1 input.sk-toggleable__control:checked~label.sk-toggleable__label-arrow:before {content: \"▾\";}#sk-container-id-1 div.sk-estimator input.sk-toggleable__control:checked~label.sk-toggleable__label {background-color: #d4ebff;}#sk-container-id-1 div.sk-label input.sk-toggleable__control:checked~label.sk-toggleable__label {background-color: #d4ebff;}#sk-container-id-1 input.sk-hidden--visually {border: 0;clip: rect(1px 1px 1px 1px);clip: rect(1px, 1px, 1px, 1px);height: 1px;margin: -1px;overflow: hidden;padding: 0;position: absolute;width: 1px;}#sk-container-id-1 div.sk-estimator {font-family: monospace;background-color: #f0f8ff;border: 1px dotted black;border-radius: 0.25em;box-sizing: border-box;margin-bottom: 0.5em;}#sk-container-id-1 div.sk-estimator:hover {background-color: #d4ebff;}#sk-container-id-1 div.sk-parallel-item::after {content: \"\";width: 100%;border-bottom: 1px solid gray;flex-grow: 1;}#sk-container-id-1 div.sk-label:hover label.sk-toggleable__label {background-color: #d4ebff;}#sk-container-id-1 div.sk-serial::before {content: \"\";position: absolute;border-left: 1px solid gray;box-sizing: border-box;top: 0;bottom: 0;left: 50%;z-index: 0;}#sk-container-id-1 div.sk-serial {display: flex;flex-direction: column;align-items: center;background-color: white;padding-right: 0.2em;padding-left: 0.2em;position: relative;}#sk-container-id-1 div.sk-item {position: relative;z-index: 1;}#sk-container-id-1 div.sk-parallel {display: flex;align-items: stretch;justify-content: center;background-color: white;position: relative;}#sk-container-id-1 div.sk-item::before, #sk-container-id-1 div.sk-parallel-item::before {content: \"\";position: absolute;border-left: 1px solid gray;box-sizing: border-box;top: 0;bottom: 0;left: 50%;z-index: -1;}#sk-container-id-1 div.sk-parallel-item {display: flex;flex-direction: column;z-index: 1;position: relative;background-color: white;}#sk-container-id-1 div.sk-parallel-item:first-child::after {align-self: flex-end;width: 50%;}#sk-container-id-1 div.sk-parallel-item:last-child::after {align-self: flex-start;width: 50%;}#sk-container-id-1 div.sk-parallel-item:only-child::after {width: 0;}#sk-container-id-1 div.sk-dashed-wrapped {border: 1px dashed gray;margin: 0 0.4em 0.5em 0.4em;box-sizing: border-box;padding-bottom: 0.4em;background-color: white;}#sk-container-id-1 div.sk-label label {font-family: monospace;font-weight: bold;display: inline-block;line-height: 1.2em;}#sk-container-id-1 div.sk-label-container {text-align: center;}#sk-container-id-1 div.sk-container {/* jupyter's `normalize.less` sets `[hidden] { display: none; }` but bootstrap.min.css set `[hidden] { display: none !important; }` so we also need the `!important` here to be able to override the default hidden behavior on the sphinx rendered scikit-learn.org. See: https://github.com/scikit-learn/scikit-learn/issues/21755 */display: inline-block !important;position: relative;}#sk-container-id-1 div.sk-text-repr-fallback {display: none;}</style><div id=\"sk-container-id-1\" class=\"sk-top-container\"><div class=\"sk-text-repr-fallback\"><pre>Pipeline(steps=[(&#x27;median&#x27;,\n",
       "                 MeanMedianImputer(variables=[&#x27;ip_reputation_score_log&#x27;])),\n",
       "                (&#x27;categorical_imputer&#x27;,\n",
       "                 CategoricalImputer(imputation_method=&#x27;frequent&#x27;,\n",
       "                                    variables=[&#x27;browser_type&#x27;])),\n",
       "                (&#x27;onehot&#x27;,\n",
       "                 OneHotEncoder(drop_last=True,\n",
       "                               variables=[&#x27;browser_type&#x27;, &#x27;protocol_type&#x27;,\n",
       "                                          &#x27;encryption_used&#x27;])),\n",
       "                (&#x27;feat_scaling&#x27;, StandardScaler()),\n",
       "                (&#x27;feat_selection&#x27;,\n",
       "                 SelectFromModel(estimator=GradientBoostingClassifier(random_state=0))),\n",
       "                (&#x27;model&#x27;,\n",
       "                 GradientBoostingClassifier(n_estimators=20, random_state=0))])</pre><b>In a Jupyter environment, please rerun this cell to show the HTML representation or trust the notebook. <br />On GitHub, the HTML representation is unable to render, please try loading this page with nbviewer.org.</b></div><div class=\"sk-container\" hidden><div class=\"sk-item sk-dashed-wrapped\"><div class=\"sk-label-container\"><div class=\"sk-label sk-toggleable\"><input class=\"sk-toggleable__control sk-hidden--visually\" id=\"sk-estimator-id-1\" type=\"checkbox\" ><label for=\"sk-estimator-id-1\" class=\"sk-toggleable__label sk-toggleable__label-arrow\">Pipeline</label><div class=\"sk-toggleable__content\"><pre>Pipeline(steps=[(&#x27;median&#x27;,\n",
       "                 MeanMedianImputer(variables=[&#x27;ip_reputation_score_log&#x27;])),\n",
       "                (&#x27;categorical_imputer&#x27;,\n",
       "                 CategoricalImputer(imputation_method=&#x27;frequent&#x27;,\n",
       "                                    variables=[&#x27;browser_type&#x27;])),\n",
       "                (&#x27;onehot&#x27;,\n",
       "                 OneHotEncoder(drop_last=True,\n",
       "                               variables=[&#x27;browser_type&#x27;, &#x27;protocol_type&#x27;,\n",
       "                                          &#x27;encryption_used&#x27;])),\n",
       "                (&#x27;feat_scaling&#x27;, StandardScaler()),\n",
       "                (&#x27;feat_selection&#x27;,\n",
       "                 SelectFromModel(estimator=GradientBoostingClassifier(random_state=0))),\n",
       "                (&#x27;model&#x27;,\n",
       "                 GradientBoostingClassifier(n_estimators=20, random_state=0))])</pre></div></div></div><div class=\"sk-serial\"><div class=\"sk-item\"><div class=\"sk-estimator sk-toggleable\"><input class=\"sk-toggleable__control sk-hidden--visually\" id=\"sk-estimator-id-2\" type=\"checkbox\" ><label for=\"sk-estimator-id-2\" class=\"sk-toggleable__label sk-toggleable__label-arrow\">MeanMedianImputer</label><div class=\"sk-toggleable__content\"><pre>MeanMedianImputer(variables=[&#x27;ip_reputation_score_log&#x27;])</pre></div></div></div><div class=\"sk-item\"><div class=\"sk-estimator sk-toggleable\"><input class=\"sk-toggleable__control sk-hidden--visually\" id=\"sk-estimator-id-3\" type=\"checkbox\" ><label for=\"sk-estimator-id-3\" class=\"sk-toggleable__label sk-toggleable__label-arrow\">CategoricalImputer</label><div class=\"sk-toggleable__content\"><pre>CategoricalImputer(imputation_method=&#x27;frequent&#x27;, variables=[&#x27;browser_type&#x27;])</pre></div></div></div><div class=\"sk-item\"><div class=\"sk-estimator sk-toggleable\"><input class=\"sk-toggleable__control sk-hidden--visually\" id=\"sk-estimator-id-4\" type=\"checkbox\" ><label for=\"sk-estimator-id-4\" class=\"sk-toggleable__label sk-toggleable__label-arrow\">OneHotEncoder</label><div class=\"sk-toggleable__content\"><pre>OneHotEncoder(drop_last=True,\n",
       "              variables=[&#x27;browser_type&#x27;, &#x27;protocol_type&#x27;, &#x27;encryption_used&#x27;])</pre></div></div></div><div class=\"sk-item\"><div class=\"sk-estimator sk-toggleable\"><input class=\"sk-toggleable__control sk-hidden--visually\" id=\"sk-estimator-id-5\" type=\"checkbox\" ><label for=\"sk-estimator-id-5\" class=\"sk-toggleable__label sk-toggleable__label-arrow\">StandardScaler</label><div class=\"sk-toggleable__content\"><pre>StandardScaler()</pre></div></div></div><div class=\"sk-item sk-dashed-wrapped\"><div class=\"sk-label-container\"><div class=\"sk-label sk-toggleable\"><input class=\"sk-toggleable__control sk-hidden--visually\" id=\"sk-estimator-id-6\" type=\"checkbox\" ><label for=\"sk-estimator-id-6\" class=\"sk-toggleable__label sk-toggleable__label-arrow\">feat_selection: SelectFromModel</label><div class=\"sk-toggleable__content\"><pre>SelectFromModel(estimator=GradientBoostingClassifier(random_state=0))</pre></div></div></div><div class=\"sk-parallel\"><div class=\"sk-parallel-item\"><div class=\"sk-item\"><div class=\"sk-label-container\"><div class=\"sk-label sk-toggleable\"><input class=\"sk-toggleable__control sk-hidden--visually\" id=\"sk-estimator-id-7\" type=\"checkbox\" ><label for=\"sk-estimator-id-7\" class=\"sk-toggleable__label sk-toggleable__label-arrow\">estimator: GradientBoostingClassifier</label><div class=\"sk-toggleable__content\"><pre>GradientBoostingClassifier(random_state=0)</pre></div></div></div><div class=\"sk-serial\"><div class=\"sk-item\"><div class=\"sk-estimator sk-toggleable\"><input class=\"sk-toggleable__control sk-hidden--visually\" id=\"sk-estimator-id-8\" type=\"checkbox\" ><label for=\"sk-estimator-id-8\" class=\"sk-toggleable__label sk-toggleable__label-arrow\">GradientBoostingClassifier</label><div class=\"sk-toggleable__content\"><pre>GradientBoostingClassifier(random_state=0)</pre></div></div></div></div></div></div></div></div><div class=\"sk-item\"><div class=\"sk-estimator sk-toggleable\"><input class=\"sk-toggleable__control sk-hidden--visually\" id=\"sk-estimator-id-9\" type=\"checkbox\" ><label for=\"sk-estimator-id-9\" class=\"sk-toggleable__label sk-toggleable__label-arrow\">GradientBoostingClassifier</label><div class=\"sk-toggleable__content\"><pre>GradientBoostingClassifier(n_estimators=20, random_state=0)</pre></div></div></div></div></div></div></div>"
      ],
      "text/plain": [
       "Pipeline(steps=[('median',\n",
       "                 MeanMedianImputer(variables=['ip_reputation_score_log'])),\n",
       "                ('categorical_imputer',\n",
       "                 CategoricalImputer(imputation_method='frequent',\n",
       "                                    variables=['browser_type'])),\n",
       "                ('onehot',\n",
       "                 OneHotEncoder(drop_last=True,\n",
       "                               variables=['browser_type', 'protocol_type',\n",
       "                                          'encryption_used'])),\n",
       "                ('feat_scaling', StandardScaler()),\n",
       "                ('feat_selection',\n",
       "                 SelectFromModel(estimator=GradientBoostingClassifier(random_state=0))),\n",
       "                ('model',\n",
       "                 GradientBoostingClassifier(n_estimators=20, random_state=0))])"
      ]
     },
     "execution_count": 22,
     "metadata": {},
     "output_type": "execute_result"
    }
   ],
   "source": [
    "best_pipeline = grid_search_pipelines[best_model].best_estimator_\n",
    "best_pipeline\n"
   ]
  },
  {
   "cell_type": "markdown",
   "id": "3798bd82",
   "metadata": {},
   "source": [
    "<img width=\"3%\" height=\"3%\" align=\"top\"  src=\"https://codeinstitute.s3.amazonaws.com/predictive_analytics/jupyter_notebook_icons/Icon%207-%20Note.png\"> The best pipeline is a tree-based algorithm, so we can check the most important features with `.feature_importances_`\n",
    "\n",
    "* The information on the `“best features”` is on the pipeline’s “feature selection” step as a boolean list. We get this list to subset the train set columns.\n",
    "* Go through the pseudo code and code comments to understand the logic.\n",
    "* Make sure you understand the variable data_cleaning_feat_eng_steps. If you use this code in your milestone project, you will likely need to update this value to the appropriate one for your pipeline.\n",
    "after data cleaning and feature engineering, the feature space may change\n",
    "for example, you may drop variables, or you may add variables, such as a \"date\" variable\n",
    "if you extract the day, month and year, for example.\n",
    "then you ask yourself: how many data cleaning and feature engineering steps does your pipeline have?\n",
    "in our case three: median, categorical_imputer and ordinal\n",
    "\n"
   ]
  },
  {
   "cell_type": "code",
   "execution_count": null,
   "id": "ac9068a0",
   "metadata": {},
   "outputs": [
    {
     "data": {
      "text/plain": [
       "0.8711691259931895"
      ]
     },
     "execution_count": 23,
     "metadata": {},
     "output_type": "execute_result"
    }
   ],
   "source": [
    "# run the best pipeline on the test set\n",
    "test_score = best_pipeline.score(X_test, y_test)\n",
    "test_score"
   ]
  },
  {
   "cell_type": "code",
   "execution_count": null,
   "id": "28f9e55f",
   "metadata": {},
   "outputs": [
    {
     "data": {
      "text/plain": [
       "<sklearn.metrics._plot.roc_curve.RocCurveDisplay at 0x27e92b096a0>"
      ]
     },
     "execution_count": 24,
     "metadata": {},
     "output_type": "execute_result"
    },
    {
     "data": {
      "image/png": "[encoded data removed]",
      "text/plain": [
       "<Figure size 640x480 with 1 Axes>"
      ]
     },
     "metadata": {},
     "output_type": "display_data"
    }
   ],
   "source": [
    "# ROC AUC curve for improved model\n",
    "from sklearn.metrics import RocCurveDisplay\n",
    "\n",
    "RocCurveDisplay.from_estimator(best_pipeline, X_test, y_test)\n"
   ]
  },
  {
   "cell_type": "code",
   "execution_count": null,
   "id": "60da71c3",
   "metadata": {},
   "outputs": [
    {
     "data": {
      "image/png": "[encoded data removed]",
      "text/plain": [
       "<Figure size 1000x600 with 1 Axes>"
      ]
     },
     "metadata": {},
     "output_type": "display_data"
    },
    {
     "data": {
      "application/vnd.microsoft.datawrangler.viewer.v0+json": {
       "columns": [
        {
         "name": "index",
         "rawType": "int64",
         "type": "integer"
        },
        {
         "name": "Feature",
         "rawType": "object",
         "type": "string"
        },
        {
         "name": "Importance",
         "rawType": "float64",
         "type": "float"
        }
       ],
       "ref": "b688a0c3-04ed-4d4d-8fbb-26026e1bd01e",
       "rows": [
        [
         "0",
         "login_attempts",
         "0.35720773668684913"
        ],
        [
         "1",
         "failed_logins",
         "0.3543793670848976"
        ],
        [
         "2",
         "ip_reputation_score_log",
         "0.2884128962282533"
        ]
       ],
       "shape": {
        "columns": 2,
        "rows": 3
       }
      },
      "text/html": [
       "<div>\n",
       "<style scoped>\n",
       "    .dataframe tbody tr th:only-of-type {\n",
       "        vertical-align: middle;\n",
       "    }\n",
       "\n",
       "    .dataframe tbody tr th {\n",
       "        vertical-align: top;\n",
       "    }\n",
       "\n",
       "    .dataframe thead th {\n",
       "        text-align: right;\n",
       "    }\n",
       "</style>\n",
       "<table border=\"1\" class=\"dataframe\">\n",
       "  <thead>\n",
       "    <tr style=\"text-align: right;\">\n",
       "      <th></th>\n",
       "      <th>Feature</th>\n",
       "      <th>Importance</th>\n",
       "    </tr>\n",
       "  </thead>\n",
       "  <tbody>\n",
       "    <tr>\n",
       "      <th>0</th>\n",
       "      <td>login_attempts</td>\n",
       "      <td>0.357208</td>\n",
       "    </tr>\n",
       "    <tr>\n",
       "      <th>1</th>\n",
       "      <td>failed_logins</td>\n",
       "      <td>0.354379</td>\n",
       "    </tr>\n",
       "    <tr>\n",
       "      <th>2</th>\n",
       "      <td>ip_reputation_score_log</td>\n",
       "      <td>0.288413</td>\n",
       "    </tr>\n",
       "  </tbody>\n",
       "</table>\n",
       "</div>"
      ],
      "text/plain": [
       "                   Feature  Importance\n",
       "0           login_attempts    0.357208\n",
       "1            failed_logins    0.354379\n",
       "2  ip_reputation_score_log    0.288413"
      ]
     },
     "execution_count": 25,
     "metadata": {},
     "output_type": "execute_result"
    }
   ],
   "source": [
    "# what are the feature importances for the best model?\n",
    "feature_importances = best_pipeline.named_steps[\"model\"].feature_importances_\n",
    "\n",
    "# derive feature names from the preprocessing steps before feature selection\n",
    "data_cleaning_feat_eng_steps = 3\n",
    "preprocessing_steps = Pipeline(best_pipeline.steps[:data_cleaning_feat_eng_steps])\n",
    "transformed_X_train = preprocessing_steps.transform(X_train)\n",
    "selected_mask = best_pipeline.named_steps[\"feat_selection\"].get_support()\n",
    "best_features = transformed_X_train.columns[selected_mask]\n",
    "\n",
    "df_feature_importance = (\n",
    "    pd.DataFrame({\"Feature\": best_features, \"Importance\": feature_importances})\n",
    "    .sort_values(by=\"Importance\", ascending=False)\n",
    ")\n",
    "\n",
    "plt.figure(figsize=(10, 6))\n",
    "plt.bar(df_feature_importance[\"Feature\"], df_feature_importance[\"Importance\"])\n",
    "plt.xticks(rotation=90)\n",
    "plt.ylabel(\"Feature Importance\")\n",
    "plt.title(\"Feature Importances for Best Model\")\n",
    "plt.tight_layout()\n",
    "plt.show()\n",
    "\n",
    "df_feature_importance"
   ]
  },
  {
   "cell_type": "code",
   "execution_count": null,
   "id": "66d506aa",
   "metadata": {},
   "outputs": [],
   "source": [
    "data_cleaning_feat_eng_steps = 3\n",
    "# we get these steps with .steps[] starting from 0 until the value we assigned above\n",
    "# then we .transform() to the train set and extract the columns\n",
    "columns_after_data_cleaning_feat_eng = (Pipeline(best_pipeline.steps[:data_cleaning_feat_eng_steps])\n",
    "                                        .transform(X_train)\n",
    "                                        .columns)\n"
   ]
  },
  {
   "cell_type": "markdown",
   "id": "4358e050",
   "metadata": {},
   "source": [
    "\n",
    "we get the boolean list indicating the best features with best_pipeline['feat_selection'].get_support()\n",
    "and use this list to subset columns_after_data_cleaning_feat_eng\n"
   ]
  },
  {
   "cell_type": "code",
   "execution_count": null,
   "id": "cfea2a3c",
   "metadata": {},
   "outputs": [
    {
     "name": "stdout",
     "output_type": "stream",
     "text": [
      "* These are the 3 most important features in descending order. The model was trained on them: \n",
      "['login_attempts', 'failed_logins', 'ip_reputation_score_log']\n"
     ]
    },
    {
     "data": {
      "image/png": "[encoded data removed]",
      "text/plain": [
       "<Figure size 640x480 with 1 Axes>"
      ]
     },
     "metadata": {},
     "output_type": "display_data"
    }
   ],
   "source": [
    "best_features = columns_after_data_cleaning_feat_eng[best_pipeline['feat_selection'].get_support()].to_list()\n",
    "\n",
    "\n",
    "# create DataFrame to display feature importance\n",
    "df_feature_importance = (pd.DataFrame(data={\n",
    "          'Feature': best_features,\n",
    "          'Importance': best_pipeline['model'].feature_importances_})\n",
    "  .sort_values(by='Importance', ascending=False)\n",
    "  )\n",
    "\n",
    "# Most important features statement and plot\n",
    "print(f\"* These are the {len(best_features)} most important features in descending order. \"\n",
    "      f\"The model was trained on them: \\n{df_feature_importance['Feature'].to_list()}\")\n",
    "\n",
    "df_feature_importance.plot(kind='bar',x='Feature',y='Importance')\n",
    "plt.show()\n"
   ]
  },
  {
   "cell_type": "markdown",
   "id": "3f2a2897",
   "metadata": {},
   "source": [
    "Finally, we evaluate the pipeline as usual with our custom function for classification tasks.\n"
   ]
  },
  {
   "cell_type": "code",
   "execution_count": null,
   "id": "f806e150",
   "metadata": {},
   "outputs": [],
   "source": [
    "from sklearn.metrics import classification_report, confusion_matrix\n",
    "\n",
    "def confusion_matrix_and_report(X,y,pipeline,label_map):\n",
    "\n",
    "  prediction = pipeline.predict(X)\n",
    "\n",
    "  print('---  Confusion Matrix  ---')\n",
    "  print(pd.DataFrame(confusion_matrix(y_true=prediction, y_pred=y),\n",
    "        columns=[ [\"Actual \" + sub for sub in label_map] ], \n",
    "        index= [ [\"Prediction \" + sub for sub in label_map ]]\n",
    "        ))\n",
    "  print(\"\\n\")\n",
    "\n",
    "\n",
    "  print('---  Classification Report  ---')\n",
    "  print(classification_report(y, prediction),\"\\n\")\n",
    "\n",
    "\n",
    "def clf_performance(X_train,y_train,X_test,y_test,pipeline,label_map):\n",
    "  print(\"#### Train Set #### \\n\")\n",
    "  confusion_matrix_and_report(X_train,y_train,pipeline,label_map)\n",
    "\n",
    "  print(\"#### Test Set ####\\n\")\n",
    "  confusion_matrix_and_report(X_test,y_test,pipeline,label_map)\n"
   ]
  },
  {
   "cell_type": "markdown",
   "id": "483477ad",
   "metadata": {},
   "source": [
    "We pass in the arguments we are familiar with.\n",
    "* Note the performance on the test set is the same as in the train set.\n",
    "* for label_map, we get the classes name with .unique()\n"
   ]
  },
  {
   "cell_type": "code",
   "execution_count": null,
   "id": "2499304d",
   "metadata": {},
   "outputs": [
    {
     "name": "stdout",
     "output_type": "stream",
     "text": [
      "#### Train Set #### \n",
      "\n",
      "---  Confusion Matrix  ---\n",
      "             Actual 1 Actual 0\n",
      "Prediction 1     4025      953\n",
      "Prediction 0        0     2067\n",
      "\n",
      "\n",
      "---  Classification Report  ---\n",
      "              precision    recall  f1-score   support\n",
      "\n",
      "           0       0.81      1.00      0.89      4025\n",
      "           1       1.00      0.68      0.81      3020\n",
      "\n",
      "    accuracy                           0.86      7045\n",
      "   macro avg       0.90      0.84      0.85      7045\n",
      "weighted avg       0.89      0.86      0.86      7045\n",
      " \n",
      "\n",
      "#### Test Set ####\n",
      "\n",
      "---  Confusion Matrix  ---\n",
      "             Actual 1 Actual 0\n",
      "Prediction 1     1034      227\n",
      "Prediction 0        0      501\n",
      "\n",
      "\n",
      "---  Classification Report  ---\n",
      "              precision    recall  f1-score   support\n",
      "\n",
      "           0       0.82      1.00      0.90      1034\n",
      "           1       1.00      0.69      0.82       728\n",
      "\n",
      "    accuracy                           0.87      1762\n",
      "   macro avg       0.91      0.84      0.86      1762\n",
      "weighted avg       0.89      0.87      0.87      1762\n",
      " \n",
      "\n"
     ]
    }
   ],
   "source": [
    "label_map = df_clf['attack_detected'].astype(str).unique()\n",
    "clf_performance(X_train=X_train, y_train=y_train,\n",
    "                X_test=X_test, y_test=y_test,\n",
    "                pipeline=best_pipeline,\n",
    "                label_map=label_map\n",
    "                # In this case, the target variable is encoded as categories and we\n",
    "                # get the values with .unique() \n",
    "                )\n"
   ]
  },
  {
   "cell_type": "code",
   "execution_count": null,
   "id": "3845e916",
   "metadata": {},
   "outputs": [
    {
     "data": {
      "image/png": "[encoded data removed]",
      "text/plain": [
       "<Figure size 640x480 with 2 Axes>"
      ]
     },
     "metadata": {},
     "output_type": "display_data"
    },
    {
     "name": "stdout",
     "output_type": "stream",
     "text": [
      "Classification Report - Train Set:\n",
      "\n",
      "                 precision    recall  f1-score   support\n",
      "\n",
      "      No Attack       0.81      1.00      0.89      4025\n",
      "Attack Detected       1.00      0.68      0.81      3020\n",
      "\n",
      "       accuracy                           0.86      7045\n",
      "      macro avg       0.90      0.84      0.85      7045\n",
      "   weighted avg       0.89      0.86      0.86      7045\n",
      "\n"
     ]
    },
    {
     "data": {
      "image/png": "[encoded data removed]",
      "text/plain": [
       "<Figure size 640x480 with 2 Axes>"
      ]
     },
     "metadata": {},
     "output_type": "display_data"
    },
    {
     "name": "stdout",
     "output_type": "stream",
     "text": [
      "Classification Report - Test Set:\n",
      "\n",
      "                 precision    recall  f1-score   support\n",
      "\n",
      "      No Attack       0.82      1.00      0.90      1034\n",
      "Attack Detected       1.00      0.69      0.82       728\n",
      "\n",
      "       accuracy                           0.87      1762\n",
      "      macro avg       0.91      0.84      0.86      1762\n",
      "   weighted avg       0.89      0.87      0.87      1762\n",
      "\n"
     ]
    }
   ],
   "source": [
    "# plot the confusion matrix and classification report for train and test sets\n",
    "import matplotlib.pyplot as plt\n",
    "from sklearn.metrics import ConfusionMatrixDisplay, classification_report\n",
    "def plot_confusion_matrix_and_report(X, y, pipeline, dataset_type):\n",
    "    y_pred = pipeline.predict(X)\n",
    "\n",
    "    # Confusion Matrix\n",
    "    disp = ConfusionMatrixDisplay.from_estimator(\n",
    "        pipeline,\n",
    "        X,\n",
    "        y,\n",
    "        display_labels=['No Attack', 'Attack Detected'],\n",
    "        cmap=plt.cm.Blues,\n",
    "        normalize=None\n",
    "    )\n",
    "    disp.ax_.set_title(f'Confusion Matrix - {dataset_type} Set')\n",
    "    plt.show()\n",
    "\n",
    "    # Classification Report\n",
    "    print(f'Classification Report - {dataset_type} Set:\\n')\n",
    "    print(classification_report(y, y_pred, target_names=['No Attack', 'Attack Detected']))\n",
    "# Plot for Train Set\n",
    "plot_confusion_matrix_and_report(X_train, y_train, best_pipeline, 'Train')\n",
    "# Plot for Test Set\n",
    "plot_confusion_matrix_and_report(X_test, y_test, best_pipeline, 'Test')\n"
   ]
  },
  {
   "cell_type": "code",
   "execution_count": null,
   "id": "be568f9d",
   "metadata": {},
   "outputs": [
    {
     "name": "stderr",
     "output_type": "stream",
     "text": [
      "c:\\Users\\marka\\OneDrive\\Desktop\\Cyber\\.venv\\Lib\\site-packages\\tqdm\\auto.py:21: TqdmWarning: IProgress not found. Please update jupyter and ipywidgets. See https://ipywidgets.readthedocs.io/en/stable/user_install.html\n",
      "  from .autonotebook import tqdm as notebook_tqdm\n",
      "c:\\Users\\marka\\OneDrive\\Desktop\\Cyber\\.venv\\Lib\\site-packages\\sklearn\\base.py:458: UserWarning: X has feature names, but SelectFromModel was fitted without feature names\n",
      "  warnings.warn(\n",
      "c:\\Users\\marka\\OneDrive\\Desktop\\Cyber\\.venv\\Lib\\site-packages\\sklearn\\base.py:458: UserWarning: X has feature names, but SelectFromModel was fitted without feature names\n",
      "  warnings.warn(\n"
     ]
    },
    {
     "data": {
      "image/png": "[encoded data removed]",
      "text/plain": [
       "<Figure size 800x270 with 2 Axes>"
      ]
     },
     "metadata": {},
     "output_type": "display_data"
    },
    {
     "data": {
      "image/png": "[encoded data removed]",
      "text/plain": [
       "<Figure size 800x270 with 1 Axes>"
      ]
     },
     "metadata": {},
     "output_type": "display_data"
    }
   ],
   "source": [
    "# Confusion matrix and classification report for the best model\n",
    "import shap\n",
    "X_test_preprocessed = preprocessing_steps.transform(X_test)\n",
    "X_test_selected = best_pipeline.named_steps[\"feat_selection\"].transform(X_test_preprocessed)\n",
    "\n",
    "explainer = shap.TreeExplainer(best_pipeline.named_steps[\"model\"])\n",
    "shap_values = explainer(X_test_selected)\n",
    "\n",
    "shap.summary_plot(\n",
    "    shap_values,\n",
    "    features=X_test_selected,\n",
    "    feature_names=best_features,\n",
    ")\n",
    "# horizontal plot\n",
    "shap.summary_plot(\n",
    "    shap_values,\n",
    "    features=X_test_selected,\n",
    "    feature_names=best_features,\n",
    "    plot_type=\"bar\"\n",
    ")"
   ]
  },
  {
   "cell_type": "code",
   "execution_count": null,
   "id": "901c11ad",
   "metadata": {},
   "outputs": [
    {
     "name": "stdout",
     "output_type": "stream",
     "text": [
      "ROC AUC: 0.8609\n",
      "PR AUC: 0.8953\n"
     ]
    }
   ],
   "source": [
    "# get the probabilities for the positive class\n",
    "y_probs = best_pipeline.predict_proba(X_test)[:, 1]\n",
    "from sklearn.metrics import roc_auc_score, precision_recall_curve, auc\n",
    "roc_auc = roc_auc_score(y_test, y_probs)\n",
    "precision, recall, _ = precision_recall_curve(y_test, y_probs)\n",
    "pr_auc = auc(recall, precision)\n",
    "print(f\"ROC AUC: {roc_auc:.4f}\")\n",
    "print(f\"PR AUC: {pr_auc:.4f}\")\n"
   ]
  },
  {
   "cell_type": "code",
   "execution_count": null,
   "id": "497ae561",
   "metadata": {},
   "outputs": [],
   "source": [
    "# save the probabilities scores to a CSV file\n",
    "import pandas as pd\n",
    "# include the session ID in the output\n",
    "# so 1 becomes SID_00001\n",
    "probs_df = pd.DataFrame({'session_id': X_test.index, 'y_true': y_test, 'y_prob': y_probs})\n",
    "probs_df['session_id'] = 'SID_' + probs_df['session_id'].astype(str).str.zfill(5)\n",
    "probs_df.to_csv('data/processed/cybersecurity_intrusion_model_pred.csv', index=False)\n",
    "\n"
   ]
  },
  {
   "cell_type": "markdown",
   "id": "2d1e162a",
   "metadata": {},
   "source": [
    "---\n"
   ]
  }
 ],
 "metadata": {
  "kernelspec": {
   "display_name": ".venv (3.12.8)",
   "language": "python",
   "name": "python3"
  },
  "language_info": {
   "codemirror_mode": {
    "name": "ipython",
    "version": 3
   },
   "file_extension": ".py",
   "mimetype": "text/x-python",
   "name": "python",
   "nbconvert_exporter": "python",
   "pygments_lexer": "ipython3",
   "version": "3.12.8"
  }
 },
 "nbformat": 4,
 "nbformat_minor": 5
}
